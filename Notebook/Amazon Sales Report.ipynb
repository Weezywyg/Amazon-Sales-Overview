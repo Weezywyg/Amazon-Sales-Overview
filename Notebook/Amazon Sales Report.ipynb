{
 "cells": [
  {
   "cell_type": "code",
   "execution_count": 1,
   "id": "72171c11",
   "metadata": {},
   "outputs": [],
   "source": [
    "import pandas as pd \n",
    "import numpy as np\n",
    "import matplotlib.pyplot as plt\n",
    "import seaborn as sns\n",
    "from IPython.display import display, Markdown\n",
    "import statsmodels.api as sm\n",
    "from sklearn.preprocessing import StandardScaler \n",
    "scale = StandardScaler()\n",
    "sns.set()"
   ]
  },
  {
   "cell_type": "markdown",
   "id": "a50e8b13",
   "metadata": {},
   "source": [
    "## Amazon Product Analysis Overview\n",
    "This analysis provides a detailed exploration of sales data across various product categories on Amazon, highlighting shipment service levels, category performance, and revenue contributions. The study offers insights into product popularity, revenue generation, and the impact of shipping preferences on sales, providing actionable recommendations for business growth. Below is the detailed breakdown:\n",
    "\n"
   ]
  },
  {
   "cell_type": "code",
   "execution_count": 2,
   "id": "95914011",
   "metadata": {},
   "outputs": [
    {
     "name": "stderr",
     "output_type": "stream",
     "text": [
      "C:\\Users\\DELL\\AppData\\Local\\Temp\\ipykernel_4660\\1332697497.py:2: UserWarning: Could not infer format, so each element will be parsed individually, falling back to `dateutil`. To ensure parsing is consistent and as-expected, please specify a format.\n",
      "  Amazon_Sales = pd.read_csv(\"Amazon Sale Report.csv\", parse_dates=['Date'])\n"
     ]
    },
    {
     "data": {
      "application/vnd.microsoft.datawrangler.viewer.v0+json": {
       "columns": [
        {
         "name": "index",
         "rawType": "int64",
         "type": "integer"
        },
        {
         "name": "index",
         "rawType": "int64",
         "type": "integer"
        },
        {
         "name": "Order ID",
         "rawType": "object",
         "type": "string"
        },
        {
         "name": "Date",
         "rawType": "datetime64[ns]",
         "type": "datetime"
        },
        {
         "name": "Status",
         "rawType": "object",
         "type": "string"
        },
        {
         "name": "Fulfilment",
         "rawType": "object",
         "type": "string"
        },
        {
         "name": "Sales Channel",
         "rawType": "object",
         "type": "string"
        },
        {
         "name": "ship-service-level",
         "rawType": "object",
         "type": "string"
        },
        {
         "name": "Category",
         "rawType": "object",
         "type": "string"
        },
        {
         "name": "Size",
         "rawType": "object",
         "type": "string"
        },
        {
         "name": "Courier Status",
         "rawType": "object",
         "type": "string"
        },
        {
         "name": "Qty",
         "rawType": "int64",
         "type": "integer"
        },
        {
         "name": "currency",
         "rawType": "object",
         "type": "unknown"
        },
        {
         "name": "Amount",
         "rawType": "float64",
         "type": "float"
        },
        {
         "name": "ship-city",
         "rawType": "object",
         "type": "unknown"
        },
        {
         "name": "ship-state",
         "rawType": "object",
         "type": "unknown"
        },
        {
         "name": "ship-postal-code",
         "rawType": "float64",
         "type": "float"
        },
        {
         "name": "ship-country",
         "rawType": "object",
         "type": "unknown"
        },
        {
         "name": "B2B",
         "rawType": "bool",
         "type": "boolean"
        },
        {
         "name": "fulfilled-by",
         "rawType": "object",
         "type": "unknown"
        },
        {
         "name": "New",
         "rawType": "float64",
         "type": "float"
        },
        {
         "name": "PendingS",
         "rawType": "float64",
         "type": "float"
        }
       ],
       "ref": "02629638-2d40-42dc-aa81-2abbbcb80181",
       "rows": [
        [
         "0",
         "0",
         "405-8078784-5731545",
         "2022-04-30 00:00:00",
         "Cancelled",
         "Merchant",
         "Amazon.in",
         "Standard",
         "T-shirt",
         "S",
         "On the Way",
         "0",
         "INR",
         "647.62",
         "MUMBAI",
         "MAHARASHTRA",
         "400081.0",
         "IN",
         "False",
         "Easy Ship",
         null,
         null
        ],
        [
         "1",
         "1",
         "171-9198151-1101146",
         "2022-04-30 00:00:00",
         "Shipped - Delivered to Buyer",
         "Merchant",
         "Amazon.in",
         "Standard",
         "Shirt",
         "3XL",
         "Shipped",
         "1",
         "INR",
         "406.0",
         "BENGALURU",
         "KARNATAKA",
         "560085.0",
         "IN",
         "False",
         "Easy Ship",
         null,
         null
        ],
        [
         "2",
         "2",
         "404-0687676-7273146",
         "2022-04-30 00:00:00",
         "Shipped",
         "Amazon",
         "Amazon.in",
         "Expedited",
         "Shirt",
         "XL",
         "Shipped",
         "1",
         "INR",
         "329.0",
         "NAVI MUMBAI",
         "MAHARASHTRA",
         "410210.0",
         "IN",
         "True",
         null,
         null,
         null
        ],
        [
         "3",
         "3",
         "403-9615377-8133951",
         "2022-04-30 00:00:00",
         "Cancelled",
         "Merchant",
         "Amazon.in",
         "Standard",
         "Blazzer",
         "L",
         "On the Way",
         "0",
         "INR",
         "753.33",
         "PUDUCHERRY",
         "PUDUCHERRY",
         "605008.0",
         "IN",
         "False",
         "Easy Ship",
         null,
         null
        ],
        [
         "4",
         "4",
         "407-1069790-7240320",
         "2022-04-30 00:00:00",
         "Shipped",
         "Amazon",
         "Amazon.in",
         "Expedited",
         "Trousers",
         "3XL",
         "Shipped",
         "1",
         "INR",
         "574.0",
         "CHENNAI",
         "TAMIL NADU",
         "600073.0",
         "IN",
         "False",
         null,
         null,
         null
        ],
        [
         "5",
         "5",
         "404-1490984-4578765",
         "2022-04-30 00:00:00",
         "Shipped",
         "Amazon",
         "Amazon.in",
         "Expedited",
         "T-shirt",
         "XL",
         "Shipped",
         "1",
         "INR",
         "824.0",
         "GHAZIABAD",
         "UTTAR PRADESH",
         "201102.0",
         "IN",
         "False",
         null,
         null,
         null
        ],
        [
         "6",
         "6",
         "408-5748499-6859555",
         "2022-04-30 00:00:00",
         "Shipped",
         "Amazon",
         "Amazon.in",
         "Expedited",
         "T-shirt",
         "L",
         "Shipped",
         "1",
         "INR",
         "653.0",
         "CHANDIGARH",
         "CHANDIGARH",
         "160036.0",
         "IN",
         "False",
         null,
         null,
         null
        ],
        [
         "7",
         "7",
         "406-7807733-3785945",
         "2022-04-30 00:00:00",
         "Shipped - Delivered to Buyer",
         "Merchant",
         "Amazon.in",
         "Standard",
         "Shirt",
         "S",
         "Shipped",
         "1",
         "INR",
         "399.0",
         "HYDERABAD",
         "TELANGANA",
         "500032.0",
         "IN",
         "False",
         "Easy Ship",
         null,
         null
        ],
        [
         "8",
         "8",
         "407-5443024-5233168",
         "2022-04-30 00:00:00",
         "Cancelled",
         "Amazon",
         "Amazon.in",
         "Expedited",
         "T-shirt",
         "3XL",
         "Cancelled",
         "0",
         null,
         null,
         "HYDERABAD",
         "TELANGANA",
         "500008.0",
         "IN",
         "False",
         null,
         null,
         null
        ],
        [
         "9",
         "9",
         "402-4393761-0311520",
         "2022-04-30 00:00:00",
         "Shipped",
         "Amazon",
         "Amazon.in",
         "Expedited",
         "Shirt",
         "XXL",
         "Shipped",
         "1",
         "INR",
         "363.0",
         "Chennai",
         "TAMIL NADU",
         "600041.0",
         "IN",
         "False",
         null,
         null,
         null
        ],
        [
         "10",
         "10",
         "407-5633625-6970741",
         "2022-04-30 00:00:00",
         "Shipped",
         "Amazon",
         "Amazon.in",
         "Expedited",
         "Shirt",
         "S",
         "Shipped",
         "1",
         "INR",
         "685.0",
         "CHENNAI",
         "TAMIL NADU",
         "600073.0",
         "IN",
         "False",
         null,
         null,
         null
        ],
        [
         "11",
         "11",
         "171-4638481-6326716",
         "2022-04-30 00:00:00",
         "Shipped",
         "Amazon",
         "Amazon.in",
         "Expedited",
         "Shirt",
         "XS",
         "Shipped",
         "1",
         "INR",
         "364.0",
         "NOIDA",
         "UTTAR PRADESH",
         "201303.0",
         "IN",
         "False",
         null,
         null,
         null
        ],
        [
         "12",
         "12",
         "405-5513694-8146768",
         "2022-04-30 00:00:00",
         "Shipped - Delivered to Buyer",
         "Merchant",
         "Amazon.in",
         "Standard",
         "Shirt",
         "XS",
         "Shipped",
         "1",
         "INR",
         "399.0",
         "Amravati.",
         "MAHARASHTRA",
         "444606.0",
         "IN",
         "False",
         "Easy Ship",
         null,
         null
        ],
        [
         "13",
         "13",
         "408-7955685-3083534",
         "2022-04-30 00:00:00",
         "Shipped",
         "Amazon",
         "Amazon.in",
         "Expedited",
         "T-shirt",
         "XS",
         "Shipped",
         "1",
         "INR",
         "657.0",
         "MUMBAI",
         "MAHARASHTRA",
         "400053.0",
         "IN",
         "False",
         null,
         null,
         null
        ],
        [
         "14",
         "14",
         "408-1298370-1920302",
         "2022-04-30 00:00:00",
         "Shipped - Delivered to Buyer",
         "Merchant",
         "Amazon.in",
         "Standard",
         "T-shirt",
         "L",
         "Shipped",
         "1",
         "INR",
         "771.0",
         "MUMBAI",
         "MAHARASHTRA",
         "400053.0",
         "IN",
         "False",
         "Easy Ship",
         null,
         null
        ],
        [
         "15",
         "15",
         "403-4965581-9520319",
         "2022-04-30 00:00:00",
         "Shipped - Delivered to Buyer",
         "Merchant",
         "Amazon.in",
         "Standard",
         "Shirt",
         "6XL",
         "Shipped",
         "1",
         "INR",
         "544.0",
         "GUNTAKAL",
         "ANDHRA PRADESH",
         "515801.0",
         "IN",
         "False",
         "Easy Ship",
         null,
         null
        ],
        [
         "16",
         "16",
         "406-9379318-6555504",
         "2022-04-30 00:00:00",
         "Shipped",
         "Amazon",
         "Amazon.in",
         "Expedited",
         "Shirt",
         "XXL",
         "Shipped",
         "1",
         "INR",
         "329.0",
         "JAIPUR",
         "RAJASTHAN",
         "302020.0",
         "IN",
         "False",
         null,
         null,
         null
        ],
        [
         "17",
         "17",
         "405-9013803-8009918",
         "2022-04-30 00:00:00",
         "Shipped",
         "Amazon",
         "Amazon.in",
         "Expedited",
         "Shirt",
         "XL",
         "Shipped",
         "1",
         "INR",
         "399.0",
         "NEW DELHI",
         "DELHI",
         "110074.0",
         "IN",
         "False",
         null,
         null,
         null
        ],
        [
         "18",
         "18",
         "402-4030358-5835511",
         "2022-04-30 00:00:00",
         "Shipped - Delivered to Buyer",
         "Merchant",
         "Amazon.in",
         "Standard",
         "Shirt",
         "XXL",
         "Shipped",
         "1",
         "INR",
         "458.0",
         "Gurgaon",
         "HARYANA",
         "122004.0",
         "IN",
         "False",
         "Easy Ship",
         null,
         null
        ],
        [
         "19",
         "19",
         "405-5957858-1051546",
         "2022-04-30 00:00:00",
         "Shipped",
         "Amazon",
         "Amazon.in",
         "Expedited",
         "T-shirt",
         "XS",
         "Shipped",
         "1",
         "INR",
         "886.0",
         "BENGALURU",
         "KARNATAKA",
         "560017.0",
         "IN",
         "False",
         null,
         null,
         null
        ],
        [
         "20",
         "20",
         "405-0607769-0716360",
         "2022-04-30 00:00:00",
         "Shipped",
         "Amazon",
         "Amazon.in",
         "Expedited",
         "Shirt",
         "3XL",
         "Shipped",
         "1",
         "INR",
         "517.0",
         "TIRUCHIRAPPALLI",
         "TAMIL NADU",
         "620018.0",
         "IN",
         "False",
         null,
         null,
         null
        ],
        [
         "21",
         "21",
         "404-8494550-5860325",
         "2022-04-30 00:00:00",
         "Shipped",
         "Amazon",
         "Amazon.in",
         "Expedited",
         "T-shirt",
         "M",
         "Shipped",
         "1",
         "INR",
         "666.0",
         "BENGALURU",
         "KARNATAKA",
         "560040.0",
         "IN",
         "False",
         null,
         null,
         null
        ],
        [
         "22",
         "22",
         "171-1305077-2813934",
         "2022-04-30 00:00:00",
         "Shipped",
         "Amazon",
         "Amazon.in",
         "Expedited",
         "Shirt",
         "L",
         "Shipped",
         "1",
         "INR",
         "376.0",
         "HYDERABAD",
         "TELANGANA",
         "500072.0",
         "IN",
         "False",
         null,
         null,
         null
        ],
        [
         "23",
         "23",
         "404-6019946-2909948",
         "2022-04-30 00:00:00",
         "Cancelled",
         "Merchant",
         "Amazon.in",
         "Standard",
         "T-shirt",
         "M",
         "On the Way",
         "0",
         "INR",
         "570.48",
         "pune",
         "MAHARASHTRA",
         "411044.0",
         "IN",
         "False",
         "Easy Ship",
         null,
         null
        ],
        [
         "24",
         "24",
         "402-3384087-4005164",
         "2022-04-30 00:00:00",
         "Shipped",
         "Amazon",
         "Amazon.in",
         "Expedited",
         "Shirt",
         "L",
         "Shipped",
         "1",
         "INR",
         "499.0",
         "TEZPUR",
         "ASSAM",
         "784001.0",
         "IN",
         "False",
         null,
         null,
         null
        ],
        [
         "25",
         "25",
         "405-8191138-5176316",
         "2022-04-30 00:00:00",
         "Shipped - Delivered to Buyer",
         "Merchant",
         "Amazon.in",
         "Standard",
         "T-shirt",
         "XS",
         "Shipped",
         "1",
         "INR",
         "582.0",
         "RANCHI",
         "JHARKHAND",
         "834002.0",
         "IN",
         "False",
         "Easy Ship",
         null,
         null
        ],
        [
         "26",
         "26",
         "403-9230474-9657916",
         "2022-04-30 00:00:00",
         "Shipped - Delivered to Buyer",
         "Merchant",
         "Amazon.in",
         "Standard",
         "Shirt",
         "3XL",
         "Shipped",
         "1",
         "INR",
         "299.0",
         "BILASPUR",
         "CHHATTISGARH",
         "495001.0",
         "IN",
         "False",
         "Easy Ship",
         null,
         null
        ],
        [
         "27",
         "27",
         "408-3484251-6901959",
         "2022-04-30 00:00:00",
         "Shipped",
         "Amazon",
         "Amazon.in",
         "Expedited",
         "Shirt",
         "4XL",
         "Shipped",
         "1",
         "INR",
         "459.0",
         "PUNE",
         "MAHARASHTRA",
         "411052.0",
         "IN",
         "False",
         null,
         null,
         null
        ],
        [
         "28",
         "28",
         "405-7755803-4729935",
         "2022-04-30 00:00:00",
         "Shipped",
         "Amazon",
         "Amazon.in",
         "Expedited",
         "Shirt",
         "M",
         "Shipped",
         "1",
         "INR",
         "399.0",
         "BENGALURU",
         "KARNATAKA",
         "560037.0",
         "IN",
         "False",
         null,
         null,
         null
        ],
        [
         "29",
         "29",
         "404-5933402-8801952",
         "2022-04-30 00:00:00",
         "Cancelled",
         "Merchant",
         "Amazon.in",
         "Standard",
         "Shirt",
         "3XL",
         "On the Way",
         "0",
         null,
         null,
         "GUWAHATI",
         "ASSAM",
         "781003.0",
         "IN",
         "False",
         "Easy Ship",
         null,
         null
        ],
        [
         "30",
         "30",
         "171-9040274-9291563",
         "2022-04-30 00:00:00",
         "Shipped",
         "Amazon",
         "Amazon.in",
         "Expedited",
         "Blazzer",
         "S",
         "Shipped",
         "1",
         "INR",
         "791.0",
         "THIRUVARUR",
         "TAMIL NADU",
         "613704.0",
         "IN",
         "False",
         null,
         null,
         null
        ],
        [
         "31",
         "31",
         "403-7056319-0979561",
         "2022-04-30 00:00:00",
         "Shipped",
         "Amazon",
         "Amazon.in",
         "Expedited",
         "Shirt",
         "XL",
         "Shipped",
         "1",
         "INR",
         "499.0",
         "LUCKNOW",
         "UTTAR PRADESH",
         "226010.0",
         "IN",
         "False",
         null,
         null,
         null
        ],
        [
         "32",
         "32",
         "404-9632124-1107550",
         "2022-04-30 00:00:00",
         "Shipped - Delivered to Buyer",
         "Merchant",
         "Amazon.in",
         "Standard",
         "T-shirt",
         "M",
         "Shipped",
         "1",
         "INR",
         "1233.0",
         "VISAKHAPATNAM",
         "ANDHRA PRADESH",
         "530016.0",
         "IN",
         "False",
         "Easy Ship",
         null,
         null
        ],
        [
         "33",
         "33",
         "402-1465437-0579556",
         "2022-04-30 00:00:00",
         "Shipped - Delivered to Buyer",
         "Merchant",
         "Amazon.in",
         "Standard",
         "Shirt",
         "M",
         "Shipped",
         "1",
         "INR",
         "517.0",
         "JEYPUR",
         "ODISHA",
         "764001.0",
         "IN",
         "False",
         "Easy Ship",
         null,
         null
        ],
        [
         "34",
         "34",
         "404-7774085-3780319",
         "2022-04-30 00:00:00",
         "Shipped",
         "Amazon",
         "Amazon.in",
         "Expedited",
         "Shirt",
         "XL",
         "Shipped",
         "1",
         "INR",
         "376.0",
         "HYDERABAD",
         "TELANGANA",
         "500028.0",
         "IN",
         "False",
         null,
         null,
         null
        ],
        [
         "35",
         "35",
         "402-2764952-1492318",
         "2022-04-30 00:00:00",
         "Shipped - Delivered to Buyer",
         "Merchant",
         "Amazon.in",
         "Standard",
         "Shirt",
         "XL",
         "Shipped",
         "1",
         "INR",
         "499.0",
         "LUCKNOW",
         "UTTAR PRADESH",
         "226016.0",
         "IN",
         "False",
         "Easy Ship",
         null,
         null
        ],
        [
         "36",
         "36",
         "406-0272200-7784379",
         "2022-04-30 00:00:00",
         "Shipped",
         "Amazon",
         "Amazon.in",
         "Expedited",
         "T-shirt",
         "L",
         "Shipped",
         "1",
         "INR",
         "666.0",
         "CHENNAI",
         "TAMIL NADU",
         "600033.0",
         "IN",
         "False",
         null,
         null,
         null
        ],
        [
         "37",
         "37",
         "403-4367956-2849158",
         "2022-04-30 00:00:00",
         "Shipped",
         "Amazon",
         "Amazon.in",
         "Expedited",
         "Shirt",
         "S",
         "Shipped",
         "1",
         "INR",
         "487.0",
         "NEW DELHI",
         "DELHI",
         "110092.0",
         "IN",
         "False",
         null,
         null,
         null
        ],
        [
         "38",
         "38",
         "403-4367956-2849158",
         "2022-04-30 00:00:00",
         "Shipped",
         "Amazon",
         "Amazon.in",
         "Expedited",
         "Shirt",
         "S",
         "Shipped",
         "1",
         "INR",
         "368.0",
         "NEW DELHI",
         "DELHI",
         "110092.0",
         "IN",
         "False",
         null,
         null,
         null
        ],
        [
         "39",
         "39",
         "403-4242957-8599555",
         "2022-04-30 00:00:00",
         "Shipped",
         "Amazon",
         "Amazon.in",
         "Expedited",
         "Shirt",
         "L",
         "Shipped",
         "1",
         "INR",
         "399.0",
         "THIRUVANANTHAPURAM",
         "KERALA",
         "695011.0",
         "IN",
         "False",
         null,
         null,
         null
        ],
        [
         "40",
         "40",
         "408-7165704-5643524",
         "2022-04-30 00:00:00",
         "Shipped",
         "Amazon",
         "Amazon.in",
         "Expedited",
         "Perfume",
         "Free",
         "Shipped",
         "1",
         "INR",
         "699.0",
         "GREATER NOIDA",
         "UTTAR PRADESH",
         "201306.0",
         "IN",
         "False",
         null,
         null,
         null
        ],
        [
         "41",
         "41",
         "402-8210765-3935569",
         "2022-04-30 00:00:00",
         "Shipped",
         "Amazon",
         "Amazon.in",
         "Expedited",
         "Blazzer",
         "3XL",
         "Shipped",
         "1",
         "INR",
         "885.0",
         "JABALPUR",
         "MADHYA PRADESH",
         "482002.0",
         "IN",
         "False",
         null,
         null,
         null
        ],
        [
         "42",
         "42",
         "406-7398201-3869914",
         "2022-04-30 00:00:00",
         "Shipped - Delivered to Buyer",
         "Merchant",
         "Amazon.in",
         "Standard",
         "Shirt",
         "M",
         "Shipped",
         "1",
         "INR",
         "424.0",
         "MUMBAI",
         "MAHARASHTRA",
         "400092.0",
         "IN",
         "False",
         "Easy Ship",
         null,
         null
        ],
        [
         "43",
         "43",
         "408-3478480-0881162",
         "2022-04-30 00:00:00",
         "Shipped",
         "Amazon",
         "Amazon.in",
         "Expedited",
         "T-shirt",
         "M",
         "Shipped",
         "1",
         "INR",
         "1126.0",
         "LUCKNOW",
         "UTTAR PRADESH",
         "226017.0",
         "IN",
         "False",
         null,
         null,
         null
        ],
        [
         "44",
         "44",
         "402-7595162-9129931",
         "2022-04-30 00:00:00",
         "Shipped",
         "Amazon",
         "Amazon.in",
         "Expedited",
         "T-shirt",
         "L",
         "Shipped",
         "1",
         "INR",
         "788.0",
         "MUMBAI",
         "MAHARASHTRA",
         "400076.0",
         "IN",
         "False",
         null,
         null,
         null
        ],
        [
         "45",
         "45",
         "171-6876154-6233146",
         "2022-04-30 00:00:00",
         "Shipped",
         "Amazon",
         "Amazon.in",
         "Expedited",
         "T-shirt",
         "S",
         "Shipped",
         "1",
         "INR",
         "759.0",
         "KOLKATA",
         "WEST BENGAL",
         "700014.0",
         "IN",
         "False",
         null,
         null,
         null
        ],
        [
         "46",
         "46",
         "408-3917043-5314763",
         "2022-04-30 00:00:00",
         "Shipped",
         "Amazon",
         "Amazon.in",
         "Expedited",
         "T-shirt",
         "L",
         "Shipped",
         "1",
         "INR",
         "1146.0",
         "ONGOLE",
         "ANDHRA PRADESH",
         "523001.0",
         "IN",
         "False",
         null,
         null,
         null
        ],
        [
         "47",
         "47",
         "408-9281152-6213100",
         "2022-04-30 00:00:00",
         "Shipped",
         "Amazon",
         "Amazon.in",
         "Expedited",
         "Trousers",
         "S",
         "Shipped",
         "1",
         "INR",
         "665.0",
         "SECUNDERABAD",
         "TELANGANA",
         "500017.0",
         "IN",
         "False",
         null,
         null,
         null
        ],
        [
         "48",
         "48",
         "403-3496411-3082707",
         "2022-04-30 00:00:00",
         "Shipped",
         "Amazon",
         "Amazon.in",
         "Expedited",
         "Shirt",
         "S",
         "Shipped",
         "1",
         "INR",
         "429.0",
         "HYDERABAD",
         "TELANGANA",
         "500062.0",
         "IN",
         "False",
         null,
         null,
         null
        ],
        [
         "49",
         "49",
         "171-9208368-0157156",
         "2022-04-30 00:00:00",
         "Shipped - Delivered to Buyer",
         "Merchant",
         "Amazon.in",
         "Standard",
         "Shirt",
         "M",
         "Shipped",
         "1",
         "INR",
         "399.0",
         "KEWALPUR",
         "UTTAR PRADESH",
         "271881.0",
         "IN",
         "False",
         "Easy Ship",
         null,
         null
        ]
       ],
       "shape": {
        "columns": 21,
        "rows": 128976
       }
      },
      "text/html": [
       "<div>\n",
       "<style scoped>\n",
       "    .dataframe tbody tr th:only-of-type {\n",
       "        vertical-align: middle;\n",
       "    }\n",
       "\n",
       "    .dataframe tbody tr th {\n",
       "        vertical-align: top;\n",
       "    }\n",
       "\n",
       "    .dataframe thead th {\n",
       "        text-align: right;\n",
       "    }\n",
       "</style>\n",
       "<table border=\"1\" class=\"dataframe\">\n",
       "  <thead>\n",
       "    <tr style=\"text-align: right;\">\n",
       "      <th></th>\n",
       "      <th>index</th>\n",
       "      <th>Order ID</th>\n",
       "      <th>Date</th>\n",
       "      <th>Status</th>\n",
       "      <th>Fulfilment</th>\n",
       "      <th>Sales Channel</th>\n",
       "      <th>ship-service-level</th>\n",
       "      <th>Category</th>\n",
       "      <th>Size</th>\n",
       "      <th>Courier Status</th>\n",
       "      <th>...</th>\n",
       "      <th>currency</th>\n",
       "      <th>Amount</th>\n",
       "      <th>ship-city</th>\n",
       "      <th>ship-state</th>\n",
       "      <th>ship-postal-code</th>\n",
       "      <th>ship-country</th>\n",
       "      <th>B2B</th>\n",
       "      <th>fulfilled-by</th>\n",
       "      <th>New</th>\n",
       "      <th>PendingS</th>\n",
       "    </tr>\n",
       "  </thead>\n",
       "  <tbody>\n",
       "    <tr>\n",
       "      <th>0</th>\n",
       "      <td>0</td>\n",
       "      <td>405-8078784-5731545</td>\n",
       "      <td>2022-04-30</td>\n",
       "      <td>Cancelled</td>\n",
       "      <td>Merchant</td>\n",
       "      <td>Amazon.in</td>\n",
       "      <td>Standard</td>\n",
       "      <td>T-shirt</td>\n",
       "      <td>S</td>\n",
       "      <td>On the Way</td>\n",
       "      <td>...</td>\n",
       "      <td>INR</td>\n",
       "      <td>647.62</td>\n",
       "      <td>MUMBAI</td>\n",
       "      <td>MAHARASHTRA</td>\n",
       "      <td>400081.0</td>\n",
       "      <td>IN</td>\n",
       "      <td>False</td>\n",
       "      <td>Easy Ship</td>\n",
       "      <td>NaN</td>\n",
       "      <td>NaN</td>\n",
       "    </tr>\n",
       "    <tr>\n",
       "      <th>1</th>\n",
       "      <td>1</td>\n",
       "      <td>171-9198151-1101146</td>\n",
       "      <td>2022-04-30</td>\n",
       "      <td>Shipped - Delivered to Buyer</td>\n",
       "      <td>Merchant</td>\n",
       "      <td>Amazon.in</td>\n",
       "      <td>Standard</td>\n",
       "      <td>Shirt</td>\n",
       "      <td>3XL</td>\n",
       "      <td>Shipped</td>\n",
       "      <td>...</td>\n",
       "      <td>INR</td>\n",
       "      <td>406.00</td>\n",
       "      <td>BENGALURU</td>\n",
       "      <td>KARNATAKA</td>\n",
       "      <td>560085.0</td>\n",
       "      <td>IN</td>\n",
       "      <td>False</td>\n",
       "      <td>Easy Ship</td>\n",
       "      <td>NaN</td>\n",
       "      <td>NaN</td>\n",
       "    </tr>\n",
       "    <tr>\n",
       "      <th>2</th>\n",
       "      <td>2</td>\n",
       "      <td>404-0687676-7273146</td>\n",
       "      <td>2022-04-30</td>\n",
       "      <td>Shipped</td>\n",
       "      <td>Amazon</td>\n",
       "      <td>Amazon.in</td>\n",
       "      <td>Expedited</td>\n",
       "      <td>Shirt</td>\n",
       "      <td>XL</td>\n",
       "      <td>Shipped</td>\n",
       "      <td>...</td>\n",
       "      <td>INR</td>\n",
       "      <td>329.00</td>\n",
       "      <td>NAVI MUMBAI</td>\n",
       "      <td>MAHARASHTRA</td>\n",
       "      <td>410210.0</td>\n",
       "      <td>IN</td>\n",
       "      <td>True</td>\n",
       "      <td>NaN</td>\n",
       "      <td>NaN</td>\n",
       "      <td>NaN</td>\n",
       "    </tr>\n",
       "    <tr>\n",
       "      <th>3</th>\n",
       "      <td>3</td>\n",
       "      <td>403-9615377-8133951</td>\n",
       "      <td>2022-04-30</td>\n",
       "      <td>Cancelled</td>\n",
       "      <td>Merchant</td>\n",
       "      <td>Amazon.in</td>\n",
       "      <td>Standard</td>\n",
       "      <td>Blazzer</td>\n",
       "      <td>L</td>\n",
       "      <td>On the Way</td>\n",
       "      <td>...</td>\n",
       "      <td>INR</td>\n",
       "      <td>753.33</td>\n",
       "      <td>PUDUCHERRY</td>\n",
       "      <td>PUDUCHERRY</td>\n",
       "      <td>605008.0</td>\n",
       "      <td>IN</td>\n",
       "      <td>False</td>\n",
       "      <td>Easy Ship</td>\n",
       "      <td>NaN</td>\n",
       "      <td>NaN</td>\n",
       "    </tr>\n",
       "    <tr>\n",
       "      <th>4</th>\n",
       "      <td>4</td>\n",
       "      <td>407-1069790-7240320</td>\n",
       "      <td>2022-04-30</td>\n",
       "      <td>Shipped</td>\n",
       "      <td>Amazon</td>\n",
       "      <td>Amazon.in</td>\n",
       "      <td>Expedited</td>\n",
       "      <td>Trousers</td>\n",
       "      <td>3XL</td>\n",
       "      <td>Shipped</td>\n",
       "      <td>...</td>\n",
       "      <td>INR</td>\n",
       "      <td>574.00</td>\n",
       "      <td>CHENNAI</td>\n",
       "      <td>TAMIL NADU</td>\n",
       "      <td>600073.0</td>\n",
       "      <td>IN</td>\n",
       "      <td>False</td>\n",
       "      <td>NaN</td>\n",
       "      <td>NaN</td>\n",
       "      <td>NaN</td>\n",
       "    </tr>\n",
       "    <tr>\n",
       "      <th>...</th>\n",
       "      <td>...</td>\n",
       "      <td>...</td>\n",
       "      <td>...</td>\n",
       "      <td>...</td>\n",
       "      <td>...</td>\n",
       "      <td>...</td>\n",
       "      <td>...</td>\n",
       "      <td>...</td>\n",
       "      <td>...</td>\n",
       "      <td>...</td>\n",
       "      <td>...</td>\n",
       "      <td>...</td>\n",
       "      <td>...</td>\n",
       "      <td>...</td>\n",
       "      <td>...</td>\n",
       "      <td>...</td>\n",
       "      <td>...</td>\n",
       "      <td>...</td>\n",
       "      <td>...</td>\n",
       "      <td>...</td>\n",
       "      <td>...</td>\n",
       "    </tr>\n",
       "    <tr>\n",
       "      <th>128971</th>\n",
       "      <td>128970</td>\n",
       "      <td>406-6001380-7673107</td>\n",
       "      <td>2022-05-31</td>\n",
       "      <td>Shipped</td>\n",
       "      <td>Amazon</td>\n",
       "      <td>Amazon.in</td>\n",
       "      <td>Expedited</td>\n",
       "      <td>Shirt</td>\n",
       "      <td>XL</td>\n",
       "      <td>Shipped</td>\n",
       "      <td>...</td>\n",
       "      <td>INR</td>\n",
       "      <td>517.00</td>\n",
       "      <td>HYDERABAD</td>\n",
       "      <td>TELANGANA</td>\n",
       "      <td>500013.0</td>\n",
       "      <td>IN</td>\n",
       "      <td>False</td>\n",
       "      <td>NaN</td>\n",
       "      <td>NaN</td>\n",
       "      <td>NaN</td>\n",
       "    </tr>\n",
       "    <tr>\n",
       "      <th>128972</th>\n",
       "      <td>128971</td>\n",
       "      <td>402-9551604-7544318</td>\n",
       "      <td>2022-05-31</td>\n",
       "      <td>Shipped</td>\n",
       "      <td>Amazon</td>\n",
       "      <td>Amazon.in</td>\n",
       "      <td>Expedited</td>\n",
       "      <td>T-shirt</td>\n",
       "      <td>M</td>\n",
       "      <td>Shipped</td>\n",
       "      <td>...</td>\n",
       "      <td>INR</td>\n",
       "      <td>999.00</td>\n",
       "      <td>GURUGRAM</td>\n",
       "      <td>HARYANA</td>\n",
       "      <td>122004.0</td>\n",
       "      <td>IN</td>\n",
       "      <td>False</td>\n",
       "      <td>NaN</td>\n",
       "      <td>NaN</td>\n",
       "      <td>NaN</td>\n",
       "    </tr>\n",
       "    <tr>\n",
       "      <th>128973</th>\n",
       "      <td>128972</td>\n",
       "      <td>407-9547469-3152358</td>\n",
       "      <td>2022-05-31</td>\n",
       "      <td>Shipped</td>\n",
       "      <td>Amazon</td>\n",
       "      <td>Amazon.in</td>\n",
       "      <td>Expedited</td>\n",
       "      <td>Blazzer</td>\n",
       "      <td>XXL</td>\n",
       "      <td>Shipped</td>\n",
       "      <td>...</td>\n",
       "      <td>INR</td>\n",
       "      <td>690.00</td>\n",
       "      <td>HYDERABAD</td>\n",
       "      <td>TELANGANA</td>\n",
       "      <td>500049.0</td>\n",
       "      <td>IN</td>\n",
       "      <td>False</td>\n",
       "      <td>NaN</td>\n",
       "      <td>NaN</td>\n",
       "      <td>NaN</td>\n",
       "    </tr>\n",
       "    <tr>\n",
       "      <th>128974</th>\n",
       "      <td>128973</td>\n",
       "      <td>402-6184140-0545956</td>\n",
       "      <td>2022-05-31</td>\n",
       "      <td>Shipped</td>\n",
       "      <td>Amazon</td>\n",
       "      <td>Amazon.in</td>\n",
       "      <td>Expedited</td>\n",
       "      <td>T-shirt</td>\n",
       "      <td>XS</td>\n",
       "      <td>Shipped</td>\n",
       "      <td>...</td>\n",
       "      <td>INR</td>\n",
       "      <td>1199.00</td>\n",
       "      <td>Halol</td>\n",
       "      <td>Gujarat</td>\n",
       "      <td>389350.0</td>\n",
       "      <td>IN</td>\n",
       "      <td>False</td>\n",
       "      <td>NaN</td>\n",
       "      <td>NaN</td>\n",
       "      <td>NaN</td>\n",
       "    </tr>\n",
       "    <tr>\n",
       "      <th>128975</th>\n",
       "      <td>128974</td>\n",
       "      <td>408-7436540-8728312</td>\n",
       "      <td>2022-05-31</td>\n",
       "      <td>Shipped</td>\n",
       "      <td>Amazon</td>\n",
       "      <td>Amazon.in</td>\n",
       "      <td>Expedited</td>\n",
       "      <td>T-shirt</td>\n",
       "      <td>S</td>\n",
       "      <td>Shipped</td>\n",
       "      <td>...</td>\n",
       "      <td>INR</td>\n",
       "      <td>696.00</td>\n",
       "      <td>Raipur</td>\n",
       "      <td>CHHATTISGARH</td>\n",
       "      <td>492014.0</td>\n",
       "      <td>IN</td>\n",
       "      <td>False</td>\n",
       "      <td>NaN</td>\n",
       "      <td>NaN</td>\n",
       "      <td>NaN</td>\n",
       "    </tr>\n",
       "  </tbody>\n",
       "</table>\n",
       "<p>128976 rows × 21 columns</p>\n",
       "</div>"
      ],
      "text/plain": [
       "         index             Order ID       Date                        Status  \\\n",
       "0            0  405-8078784-5731545 2022-04-30                     Cancelled   \n",
       "1            1  171-9198151-1101146 2022-04-30  Shipped - Delivered to Buyer   \n",
       "2            2  404-0687676-7273146 2022-04-30                       Shipped   \n",
       "3            3  403-9615377-8133951 2022-04-30                     Cancelled   \n",
       "4            4  407-1069790-7240320 2022-04-30                       Shipped   \n",
       "...        ...                  ...        ...                           ...   \n",
       "128971  128970  406-6001380-7673107 2022-05-31                       Shipped   \n",
       "128972  128971  402-9551604-7544318 2022-05-31                       Shipped   \n",
       "128973  128972  407-9547469-3152358 2022-05-31                       Shipped   \n",
       "128974  128973  402-6184140-0545956 2022-05-31                       Shipped   \n",
       "128975  128974  408-7436540-8728312 2022-05-31                       Shipped   \n",
       "\n",
       "       Fulfilment Sales Channel ship-service-level  Category Size  \\\n",
       "0        Merchant     Amazon.in           Standard   T-shirt    S   \n",
       "1        Merchant     Amazon.in           Standard     Shirt  3XL   \n",
       "2          Amazon     Amazon.in          Expedited     Shirt   XL   \n",
       "3        Merchant     Amazon.in           Standard   Blazzer    L   \n",
       "4          Amazon     Amazon.in          Expedited  Trousers  3XL   \n",
       "...           ...           ...                ...       ...  ...   \n",
       "128971     Amazon     Amazon.in          Expedited     Shirt   XL   \n",
       "128972     Amazon     Amazon.in          Expedited   T-shirt    M   \n",
       "128973     Amazon     Amazon.in          Expedited   Blazzer  XXL   \n",
       "128974     Amazon     Amazon.in          Expedited   T-shirt   XS   \n",
       "128975     Amazon     Amazon.in          Expedited   T-shirt    S   \n",
       "\n",
       "       Courier Status  ...  currency   Amount    ship-city    ship-state  \\\n",
       "0          On the Way  ...       INR   647.62       MUMBAI   MAHARASHTRA   \n",
       "1             Shipped  ...       INR   406.00    BENGALURU     KARNATAKA   \n",
       "2             Shipped  ...       INR   329.00  NAVI MUMBAI   MAHARASHTRA   \n",
       "3          On the Way  ...       INR   753.33   PUDUCHERRY    PUDUCHERRY   \n",
       "4             Shipped  ...       INR   574.00      CHENNAI    TAMIL NADU   \n",
       "...               ...  ...       ...      ...          ...           ...   \n",
       "128971        Shipped  ...       INR   517.00    HYDERABAD     TELANGANA   \n",
       "128972        Shipped  ...       INR   999.00     GURUGRAM       HARYANA   \n",
       "128973        Shipped  ...       INR   690.00    HYDERABAD     TELANGANA   \n",
       "128974        Shipped  ...       INR  1199.00        Halol       Gujarat   \n",
       "128975        Shipped  ...       INR   696.00       Raipur  CHHATTISGARH   \n",
       "\n",
       "       ship-postal-code  ship-country    B2B  fulfilled-by New  PendingS  \n",
       "0              400081.0            IN  False     Easy Ship NaN       NaN  \n",
       "1              560085.0            IN  False     Easy Ship NaN       NaN  \n",
       "2              410210.0            IN   True           NaN NaN       NaN  \n",
       "3              605008.0            IN  False     Easy Ship NaN       NaN  \n",
       "4              600073.0            IN  False           NaN NaN       NaN  \n",
       "...                 ...           ...    ...           ...  ..       ...  \n",
       "128971         500013.0            IN  False           NaN NaN       NaN  \n",
       "128972         122004.0            IN  False           NaN NaN       NaN  \n",
       "128973         500049.0            IN  False           NaN NaN       NaN  \n",
       "128974         389350.0            IN  False           NaN NaN       NaN  \n",
       "128975         492014.0            IN  False           NaN NaN       NaN  \n",
       "\n",
       "[128976 rows x 21 columns]"
      ]
     },
     "execution_count": 2,
     "metadata": {},
     "output_type": "execute_result"
    }
   ],
   "source": [
    "date_parser = lambda x: pd.to_datetime(x, format='%Y-%m-%d', errors='coerce')\n",
    "Amazon_Sales = pd.read_csv(\"Amazon Sale Report.csv\", parse_dates=['Date'])\n",
    "Amazon_Sales"
   ]
  },
  {
   "cell_type": "markdown",
   "id": "fa09fd9b",
   "metadata": {},
   "source": [
    "## DATA CLEANING AND AGGREATION"
   ]
  },
  {
   "cell_type": "code",
   "execution_count": 3,
   "id": "36c698d3",
   "metadata": {},
   "outputs": [
    {
     "name": "stdout",
     "output_type": "stream",
     "text": [
      "<class 'pandas.core.frame.DataFrame'>\n",
      "RangeIndex: 128976 entries, 0 to 128975\n",
      "Data columns (total 21 columns):\n",
      " #   Column              Non-Null Count   Dtype         \n",
      "---  ------              --------------   -----         \n",
      " 0   index               128976 non-null  int64         \n",
      " 1   Order ID            128976 non-null  object        \n",
      " 2   Date                128976 non-null  datetime64[ns]\n",
      " 3   Status              128976 non-null  object        \n",
      " 4   Fulfilment          128976 non-null  object        \n",
      " 5   Sales Channel       128976 non-null  object        \n",
      " 6   ship-service-level  128976 non-null  object        \n",
      " 7   Category            128976 non-null  object        \n",
      " 8   Size                128976 non-null  object        \n",
      " 9   Courier Status      128976 non-null  object        \n",
      " 10  Qty                 128976 non-null  int64         \n",
      " 11  currency            121176 non-null  object        \n",
      " 12  Amount              121176 non-null  float64       \n",
      " 13  ship-city           128941 non-null  object        \n",
      " 14  ship-state          128941 non-null  object        \n",
      " 15  ship-postal-code    128941 non-null  float64       \n",
      " 16  ship-country        128941 non-null  object        \n",
      " 17  B2B                 128976 non-null  bool          \n",
      " 18  fulfilled-by        39263 non-null   object        \n",
      " 19  New                 0 non-null       float64       \n",
      " 20  PendingS            0 non-null       float64       \n",
      "dtypes: bool(1), datetime64[ns](1), float64(4), int64(2), object(13)\n",
      "memory usage: 19.8+ MB\n"
     ]
    }
   ],
   "source": [
    "Amazon_Sales.info()"
   ]
  },
  {
   "cell_type": "code",
   "execution_count": 4,
   "id": "051a73c7",
   "metadata": {},
   "outputs": [
    {
     "data": {
      "application/vnd.microsoft.datawrangler.viewer.v0+json": {
       "columns": [
        {
         "name": "index",
         "rawType": "object",
         "type": "string"
        },
        {
         "name": "index",
         "rawType": "float64",
         "type": "float"
        },
        {
         "name": "Date",
         "rawType": "object",
         "type": "unknown"
        },
        {
         "name": "Qty",
         "rawType": "float64",
         "type": "float"
        },
        {
         "name": "Amount",
         "rawType": "float64",
         "type": "float"
        },
        {
         "name": "ship-postal-code",
         "rawType": "float64",
         "type": "float"
        },
        {
         "name": "New",
         "rawType": "float64",
         "type": "float"
        },
        {
         "name": "PendingS",
         "rawType": "float64",
         "type": "float"
        }
       ],
       "ref": "3ab68880-d86c-4bc1-b310-15cf43f80277",
       "rows": [
        [
         "count",
         "128976.0",
         "128976",
         "128976.0",
         "121176.0",
         "128941.0",
         "0.0",
         "0.0"
        ],
        [
         "mean",
         "64486.13042736633",
         "2022-05-12 11:49:26.951991040",
         "0.9044008187569781",
         "648.5621760909748",
         "463945.6777440845",
         null,
         null
        ],
        [
         "min",
         "0.0",
         "2022-03-31 00:00:00",
         "0.0",
         "0.0",
         "110001.0",
         null,
         null
        ],
        [
         "25%",
         "32242.75",
         "2022-04-20 00:00:00",
         "1.0",
         "449.0",
         "382421.0",
         null,
         null
        ],
        [
         "50%",
         "64486.5",
         "2022-05-10 00:00:00",
         "1.0",
         "605.0",
         "500033.0",
         null,
         null
        ],
        [
         "75%",
         "96730.25",
         "2022-06-04 00:00:00",
         "1.0",
         "788.0",
         "600024.0",
         null,
         null
        ],
        [
         "max",
         "128974.0",
         "2022-06-29 00:00:00",
         "15.0",
         "5584.0",
         "989898.0",
         null,
         null
        ],
        [
         "std",
         "37232.89783203402",
         null,
         "0.3133677666943975",
         "281.18504116097114",
         "191458.48895366373",
         null,
         null
        ]
       ],
       "shape": {
        "columns": 7,
        "rows": 8
       }
      },
      "text/html": [
       "<div>\n",
       "<style scoped>\n",
       "    .dataframe tbody tr th:only-of-type {\n",
       "        vertical-align: middle;\n",
       "    }\n",
       "\n",
       "    .dataframe tbody tr th {\n",
       "        vertical-align: top;\n",
       "    }\n",
       "\n",
       "    .dataframe thead th {\n",
       "        text-align: right;\n",
       "    }\n",
       "</style>\n",
       "<table border=\"1\" class=\"dataframe\">\n",
       "  <thead>\n",
       "    <tr style=\"text-align: right;\">\n",
       "      <th></th>\n",
       "      <th>index</th>\n",
       "      <th>Date</th>\n",
       "      <th>Qty</th>\n",
       "      <th>Amount</th>\n",
       "      <th>ship-postal-code</th>\n",
       "      <th>New</th>\n",
       "      <th>PendingS</th>\n",
       "    </tr>\n",
       "  </thead>\n",
       "  <tbody>\n",
       "    <tr>\n",
       "      <th>count</th>\n",
       "      <td>128976.000000</td>\n",
       "      <td>128976</td>\n",
       "      <td>128976.000000</td>\n",
       "      <td>121176.000000</td>\n",
       "      <td>128941.000000</td>\n",
       "      <td>0.0</td>\n",
       "      <td>0.0</td>\n",
       "    </tr>\n",
       "    <tr>\n",
       "      <th>mean</th>\n",
       "      <td>64486.130427</td>\n",
       "      <td>2022-05-12 11:49:26.951991040</td>\n",
       "      <td>0.904401</td>\n",
       "      <td>648.562176</td>\n",
       "      <td>463945.677744</td>\n",
       "      <td>NaN</td>\n",
       "      <td>NaN</td>\n",
       "    </tr>\n",
       "    <tr>\n",
       "      <th>min</th>\n",
       "      <td>0.000000</td>\n",
       "      <td>2022-03-31 00:00:00</td>\n",
       "      <td>0.000000</td>\n",
       "      <td>0.000000</td>\n",
       "      <td>110001.000000</td>\n",
       "      <td>NaN</td>\n",
       "      <td>NaN</td>\n",
       "    </tr>\n",
       "    <tr>\n",
       "      <th>25%</th>\n",
       "      <td>32242.750000</td>\n",
       "      <td>2022-04-20 00:00:00</td>\n",
       "      <td>1.000000</td>\n",
       "      <td>449.000000</td>\n",
       "      <td>382421.000000</td>\n",
       "      <td>NaN</td>\n",
       "      <td>NaN</td>\n",
       "    </tr>\n",
       "    <tr>\n",
       "      <th>50%</th>\n",
       "      <td>64486.500000</td>\n",
       "      <td>2022-05-10 00:00:00</td>\n",
       "      <td>1.000000</td>\n",
       "      <td>605.000000</td>\n",
       "      <td>500033.000000</td>\n",
       "      <td>NaN</td>\n",
       "      <td>NaN</td>\n",
       "    </tr>\n",
       "    <tr>\n",
       "      <th>75%</th>\n",
       "      <td>96730.250000</td>\n",
       "      <td>2022-06-04 00:00:00</td>\n",
       "      <td>1.000000</td>\n",
       "      <td>788.000000</td>\n",
       "      <td>600024.000000</td>\n",
       "      <td>NaN</td>\n",
       "      <td>NaN</td>\n",
       "    </tr>\n",
       "    <tr>\n",
       "      <th>max</th>\n",
       "      <td>128974.000000</td>\n",
       "      <td>2022-06-29 00:00:00</td>\n",
       "      <td>15.000000</td>\n",
       "      <td>5584.000000</td>\n",
       "      <td>989898.000000</td>\n",
       "      <td>NaN</td>\n",
       "      <td>NaN</td>\n",
       "    </tr>\n",
       "    <tr>\n",
       "      <th>std</th>\n",
       "      <td>37232.897832</td>\n",
       "      <td>NaN</td>\n",
       "      <td>0.313368</td>\n",
       "      <td>281.185041</td>\n",
       "      <td>191458.488954</td>\n",
       "      <td>NaN</td>\n",
       "      <td>NaN</td>\n",
       "    </tr>\n",
       "  </tbody>\n",
       "</table>\n",
       "</div>"
      ],
      "text/plain": [
       "               index                           Date            Qty  \\\n",
       "count  128976.000000                         128976  128976.000000   \n",
       "mean    64486.130427  2022-05-12 11:49:26.951991040       0.904401   \n",
       "min         0.000000            2022-03-31 00:00:00       0.000000   \n",
       "25%     32242.750000            2022-04-20 00:00:00       1.000000   \n",
       "50%     64486.500000            2022-05-10 00:00:00       1.000000   \n",
       "75%     96730.250000            2022-06-04 00:00:00       1.000000   \n",
       "max    128974.000000            2022-06-29 00:00:00      15.000000   \n",
       "std     37232.897832                            NaN       0.313368   \n",
       "\n",
       "              Amount  ship-postal-code  New  PendingS  \n",
       "count  121176.000000     128941.000000  0.0       0.0  \n",
       "mean      648.562176     463945.677744  NaN       NaN  \n",
       "min         0.000000     110001.000000  NaN       NaN  \n",
       "25%       449.000000     382421.000000  NaN       NaN  \n",
       "50%       605.000000     500033.000000  NaN       NaN  \n",
       "75%       788.000000     600024.000000  NaN       NaN  \n",
       "max      5584.000000     989898.000000  NaN       NaN  \n",
       "std       281.185041     191458.488954  NaN       NaN  "
      ]
     },
     "execution_count": 4,
     "metadata": {},
     "output_type": "execute_result"
    }
   ],
   "source": [
    "Amazon_Sales.describe()"
   ]
  },
  {
   "cell_type": "code",
   "execution_count": 5,
   "id": "c0d534e3",
   "metadata": {},
   "outputs": [
    {
     "data": {
      "application/vnd.microsoft.datawrangler.viewer.v0+json": {
       "columns": [
        {
         "name": "New",
         "rawType": "float64",
         "type": "float"
        },
        {
         "name": "count",
         "rawType": "int64",
         "type": "integer"
        }
       ],
       "ref": "b5b46251-e914-4650-8fd7-798a44dd353e",
       "rows": [],
       "shape": {
        "columns": 1,
        "rows": 0
       }
      },
      "text/plain": [
       "Series([], Name: count, dtype: int64)"
      ]
     },
     "execution_count": 5,
     "metadata": {},
     "output_type": "execute_result"
    }
   ],
   "source": [
    "Amazon_Sales[\"New\"].value_counts()"
   ]
  },
  {
   "cell_type": "code",
   "execution_count": 6,
   "id": "a9c9c135",
   "metadata": {},
   "outputs": [],
   "source": [
    "Amazon_Sales.drop(columns = [\"New\", \"PendingS\"], inplace= True)"
   ]
  },
  {
   "cell_type": "code",
   "execution_count": 7,
   "id": "72b37924",
   "metadata": {},
   "outputs": [
    {
     "data": {
      "application/vnd.microsoft.datawrangler.viewer.v0+json": {
       "columns": [
        {
         "name": "index",
         "rawType": "int64",
         "type": "integer"
        },
        {
         "name": "index",
         "rawType": "int64",
         "type": "integer"
        },
        {
         "name": "Order ID",
         "rawType": "object",
         "type": "string"
        },
        {
         "name": "Date",
         "rawType": "datetime64[ns]",
         "type": "datetime"
        },
        {
         "name": "Status",
         "rawType": "object",
         "type": "string"
        },
        {
         "name": "Fulfilment",
         "rawType": "object",
         "type": "string"
        },
        {
         "name": "Sales Channel",
         "rawType": "object",
         "type": "string"
        },
        {
         "name": "ship-service-level",
         "rawType": "object",
         "type": "string"
        },
        {
         "name": "Category",
         "rawType": "object",
         "type": "string"
        },
        {
         "name": "Size",
         "rawType": "object",
         "type": "string"
        },
        {
         "name": "Courier Status",
         "rawType": "object",
         "type": "string"
        },
        {
         "name": "Qty",
         "rawType": "int64",
         "type": "integer"
        },
        {
         "name": "currency",
         "rawType": "object",
         "type": "unknown"
        },
        {
         "name": "Amount",
         "rawType": "float64",
         "type": "float"
        },
        {
         "name": "ship-city",
         "rawType": "object",
         "type": "unknown"
        },
        {
         "name": "ship-state",
         "rawType": "object",
         "type": "unknown"
        },
        {
         "name": "ship-postal-code",
         "rawType": "float64",
         "type": "float"
        },
        {
         "name": "ship-country",
         "rawType": "object",
         "type": "unknown"
        },
        {
         "name": "B2B",
         "rawType": "bool",
         "type": "boolean"
        },
        {
         "name": "fulfilled-by",
         "rawType": "object",
         "type": "unknown"
        }
       ],
       "ref": "928379ee-523c-4a87-a4d0-dbaa0bed6f10",
       "rows": [
        [
         "0",
         "0",
         "405-8078784-5731545",
         "2022-04-30 00:00:00",
         "Cancelled",
         "Merchant",
         "Amazon.in",
         "Standard",
         "T-shirt",
         "S",
         "On the Way",
         "0",
         "INR",
         "647.62",
         "MUMBAI",
         "MAHARASHTRA",
         "400081.0",
         "IN",
         "False",
         "Easy Ship"
        ],
        [
         "1",
         "1",
         "171-9198151-1101146",
         "2022-04-30 00:00:00",
         "Shipped - Delivered to Buyer",
         "Merchant",
         "Amazon.in",
         "Standard",
         "Shirt",
         "3XL",
         "Shipped",
         "1",
         "INR",
         "406.0",
         "BENGALURU",
         "KARNATAKA",
         "560085.0",
         "IN",
         "False",
         "Easy Ship"
        ],
        [
         "2",
         "2",
         "404-0687676-7273146",
         "2022-04-30 00:00:00",
         "Shipped",
         "Amazon",
         "Amazon.in",
         "Expedited",
         "Shirt",
         "XL",
         "Shipped",
         "1",
         "INR",
         "329.0",
         "NAVI MUMBAI",
         "MAHARASHTRA",
         "410210.0",
         "IN",
         "True",
         null
        ],
        [
         "3",
         "3",
         "403-9615377-8133951",
         "2022-04-30 00:00:00",
         "Cancelled",
         "Merchant",
         "Amazon.in",
         "Standard",
         "Blazzer",
         "L",
         "On the Way",
         "0",
         "INR",
         "753.33",
         "PUDUCHERRY",
         "PUDUCHERRY",
         "605008.0",
         "IN",
         "False",
         "Easy Ship"
        ],
        [
         "4",
         "4",
         "407-1069790-7240320",
         "2022-04-30 00:00:00",
         "Shipped",
         "Amazon",
         "Amazon.in",
         "Expedited",
         "Trousers",
         "3XL",
         "Shipped",
         "1",
         "INR",
         "574.0",
         "CHENNAI",
         "TAMIL NADU",
         "600073.0",
         "IN",
         "False",
         null
        ],
        [
         "5",
         "5",
         "404-1490984-4578765",
         "2022-04-30 00:00:00",
         "Shipped",
         "Amazon",
         "Amazon.in",
         "Expedited",
         "T-shirt",
         "XL",
         "Shipped",
         "1",
         "INR",
         "824.0",
         "GHAZIABAD",
         "UTTAR PRADESH",
         "201102.0",
         "IN",
         "False",
         null
        ],
        [
         "6",
         "6",
         "408-5748499-6859555",
         "2022-04-30 00:00:00",
         "Shipped",
         "Amazon",
         "Amazon.in",
         "Expedited",
         "T-shirt",
         "L",
         "Shipped",
         "1",
         "INR",
         "653.0",
         "CHANDIGARH",
         "CHANDIGARH",
         "160036.0",
         "IN",
         "False",
         null
        ],
        [
         "7",
         "7",
         "406-7807733-3785945",
         "2022-04-30 00:00:00",
         "Shipped - Delivered to Buyer",
         "Merchant",
         "Amazon.in",
         "Standard",
         "Shirt",
         "S",
         "Shipped",
         "1",
         "INR",
         "399.0",
         "HYDERABAD",
         "TELANGANA",
         "500032.0",
         "IN",
         "False",
         "Easy Ship"
        ],
        [
         "8",
         "8",
         "407-5443024-5233168",
         "2022-04-30 00:00:00",
         "Cancelled",
         "Amazon",
         "Amazon.in",
         "Expedited",
         "T-shirt",
         "3XL",
         "Cancelled",
         "0",
         null,
         null,
         "HYDERABAD",
         "TELANGANA",
         "500008.0",
         "IN",
         "False",
         null
        ],
        [
         "9",
         "9",
         "402-4393761-0311520",
         "2022-04-30 00:00:00",
         "Shipped",
         "Amazon",
         "Amazon.in",
         "Expedited",
         "Shirt",
         "XXL",
         "Shipped",
         "1",
         "INR",
         "363.0",
         "Chennai",
         "TAMIL NADU",
         "600041.0",
         "IN",
         "False",
         null
        ],
        [
         "10",
         "10",
         "407-5633625-6970741",
         "2022-04-30 00:00:00",
         "Shipped",
         "Amazon",
         "Amazon.in",
         "Expedited",
         "Shirt",
         "S",
         "Shipped",
         "1",
         "INR",
         "685.0",
         "CHENNAI",
         "TAMIL NADU",
         "600073.0",
         "IN",
         "False",
         null
        ],
        [
         "11",
         "11",
         "171-4638481-6326716",
         "2022-04-30 00:00:00",
         "Shipped",
         "Amazon",
         "Amazon.in",
         "Expedited",
         "Shirt",
         "XS",
         "Shipped",
         "1",
         "INR",
         "364.0",
         "NOIDA",
         "UTTAR PRADESH",
         "201303.0",
         "IN",
         "False",
         null
        ],
        [
         "12",
         "12",
         "405-5513694-8146768",
         "2022-04-30 00:00:00",
         "Shipped - Delivered to Buyer",
         "Merchant",
         "Amazon.in",
         "Standard",
         "Shirt",
         "XS",
         "Shipped",
         "1",
         "INR",
         "399.0",
         "Amravati.",
         "MAHARASHTRA",
         "444606.0",
         "IN",
         "False",
         "Easy Ship"
        ],
        [
         "13",
         "13",
         "408-7955685-3083534",
         "2022-04-30 00:00:00",
         "Shipped",
         "Amazon",
         "Amazon.in",
         "Expedited",
         "T-shirt",
         "XS",
         "Shipped",
         "1",
         "INR",
         "657.0",
         "MUMBAI",
         "MAHARASHTRA",
         "400053.0",
         "IN",
         "False",
         null
        ],
        [
         "14",
         "14",
         "408-1298370-1920302",
         "2022-04-30 00:00:00",
         "Shipped - Delivered to Buyer",
         "Merchant",
         "Amazon.in",
         "Standard",
         "T-shirt",
         "L",
         "Shipped",
         "1",
         "INR",
         "771.0",
         "MUMBAI",
         "MAHARASHTRA",
         "400053.0",
         "IN",
         "False",
         "Easy Ship"
        ],
        [
         "15",
         "15",
         "403-4965581-9520319",
         "2022-04-30 00:00:00",
         "Shipped - Delivered to Buyer",
         "Merchant",
         "Amazon.in",
         "Standard",
         "Shirt",
         "6XL",
         "Shipped",
         "1",
         "INR",
         "544.0",
         "GUNTAKAL",
         "ANDHRA PRADESH",
         "515801.0",
         "IN",
         "False",
         "Easy Ship"
        ],
        [
         "16",
         "16",
         "406-9379318-6555504",
         "2022-04-30 00:00:00",
         "Shipped",
         "Amazon",
         "Amazon.in",
         "Expedited",
         "Shirt",
         "XXL",
         "Shipped",
         "1",
         "INR",
         "329.0",
         "JAIPUR",
         "RAJASTHAN",
         "302020.0",
         "IN",
         "False",
         null
        ],
        [
         "17",
         "17",
         "405-9013803-8009918",
         "2022-04-30 00:00:00",
         "Shipped",
         "Amazon",
         "Amazon.in",
         "Expedited",
         "Shirt",
         "XL",
         "Shipped",
         "1",
         "INR",
         "399.0",
         "NEW DELHI",
         "DELHI",
         "110074.0",
         "IN",
         "False",
         null
        ],
        [
         "18",
         "18",
         "402-4030358-5835511",
         "2022-04-30 00:00:00",
         "Shipped - Delivered to Buyer",
         "Merchant",
         "Amazon.in",
         "Standard",
         "Shirt",
         "XXL",
         "Shipped",
         "1",
         "INR",
         "458.0",
         "Gurgaon",
         "HARYANA",
         "122004.0",
         "IN",
         "False",
         "Easy Ship"
        ],
        [
         "19",
         "19",
         "405-5957858-1051546",
         "2022-04-30 00:00:00",
         "Shipped",
         "Amazon",
         "Amazon.in",
         "Expedited",
         "T-shirt",
         "XS",
         "Shipped",
         "1",
         "INR",
         "886.0",
         "BENGALURU",
         "KARNATAKA",
         "560017.0",
         "IN",
         "False",
         null
        ],
        [
         "20",
         "20",
         "405-0607769-0716360",
         "2022-04-30 00:00:00",
         "Shipped",
         "Amazon",
         "Amazon.in",
         "Expedited",
         "Shirt",
         "3XL",
         "Shipped",
         "1",
         "INR",
         "517.0",
         "TIRUCHIRAPPALLI",
         "TAMIL NADU",
         "620018.0",
         "IN",
         "False",
         null
        ],
        [
         "21",
         "21",
         "404-8494550-5860325",
         "2022-04-30 00:00:00",
         "Shipped",
         "Amazon",
         "Amazon.in",
         "Expedited",
         "T-shirt",
         "M",
         "Shipped",
         "1",
         "INR",
         "666.0",
         "BENGALURU",
         "KARNATAKA",
         "560040.0",
         "IN",
         "False",
         null
        ],
        [
         "22",
         "22",
         "171-1305077-2813934",
         "2022-04-30 00:00:00",
         "Shipped",
         "Amazon",
         "Amazon.in",
         "Expedited",
         "Shirt",
         "L",
         "Shipped",
         "1",
         "INR",
         "376.0",
         "HYDERABAD",
         "TELANGANA",
         "500072.0",
         "IN",
         "False",
         null
        ],
        [
         "23",
         "23",
         "404-6019946-2909948",
         "2022-04-30 00:00:00",
         "Cancelled",
         "Merchant",
         "Amazon.in",
         "Standard",
         "T-shirt",
         "M",
         "On the Way",
         "0",
         "INR",
         "570.48",
         "pune",
         "MAHARASHTRA",
         "411044.0",
         "IN",
         "False",
         "Easy Ship"
        ],
        [
         "24",
         "24",
         "402-3384087-4005164",
         "2022-04-30 00:00:00",
         "Shipped",
         "Amazon",
         "Amazon.in",
         "Expedited",
         "Shirt",
         "L",
         "Shipped",
         "1",
         "INR",
         "499.0",
         "TEZPUR",
         "ASSAM",
         "784001.0",
         "IN",
         "False",
         null
        ],
        [
         "25",
         "25",
         "405-8191138-5176316",
         "2022-04-30 00:00:00",
         "Shipped - Delivered to Buyer",
         "Merchant",
         "Amazon.in",
         "Standard",
         "T-shirt",
         "XS",
         "Shipped",
         "1",
         "INR",
         "582.0",
         "RANCHI",
         "JHARKHAND",
         "834002.0",
         "IN",
         "False",
         "Easy Ship"
        ],
        [
         "26",
         "26",
         "403-9230474-9657916",
         "2022-04-30 00:00:00",
         "Shipped - Delivered to Buyer",
         "Merchant",
         "Amazon.in",
         "Standard",
         "Shirt",
         "3XL",
         "Shipped",
         "1",
         "INR",
         "299.0",
         "BILASPUR",
         "CHHATTISGARH",
         "495001.0",
         "IN",
         "False",
         "Easy Ship"
        ],
        [
         "27",
         "27",
         "408-3484251-6901959",
         "2022-04-30 00:00:00",
         "Shipped",
         "Amazon",
         "Amazon.in",
         "Expedited",
         "Shirt",
         "4XL",
         "Shipped",
         "1",
         "INR",
         "459.0",
         "PUNE",
         "MAHARASHTRA",
         "411052.0",
         "IN",
         "False",
         null
        ],
        [
         "28",
         "28",
         "405-7755803-4729935",
         "2022-04-30 00:00:00",
         "Shipped",
         "Amazon",
         "Amazon.in",
         "Expedited",
         "Shirt",
         "M",
         "Shipped",
         "1",
         "INR",
         "399.0",
         "BENGALURU",
         "KARNATAKA",
         "560037.0",
         "IN",
         "False",
         null
        ],
        [
         "29",
         "29",
         "404-5933402-8801952",
         "2022-04-30 00:00:00",
         "Cancelled",
         "Merchant",
         "Amazon.in",
         "Standard",
         "Shirt",
         "3XL",
         "On the Way",
         "0",
         null,
         null,
         "GUWAHATI",
         "ASSAM",
         "781003.0",
         "IN",
         "False",
         "Easy Ship"
        ],
        [
         "30",
         "30",
         "171-9040274-9291563",
         "2022-04-30 00:00:00",
         "Shipped",
         "Amazon",
         "Amazon.in",
         "Expedited",
         "Blazzer",
         "S",
         "Shipped",
         "1",
         "INR",
         "791.0",
         "THIRUVARUR",
         "TAMIL NADU",
         "613704.0",
         "IN",
         "False",
         null
        ],
        [
         "31",
         "31",
         "403-7056319-0979561",
         "2022-04-30 00:00:00",
         "Shipped",
         "Amazon",
         "Amazon.in",
         "Expedited",
         "Shirt",
         "XL",
         "Shipped",
         "1",
         "INR",
         "499.0",
         "LUCKNOW",
         "UTTAR PRADESH",
         "226010.0",
         "IN",
         "False",
         null
        ],
        [
         "32",
         "32",
         "404-9632124-1107550",
         "2022-04-30 00:00:00",
         "Shipped - Delivered to Buyer",
         "Merchant",
         "Amazon.in",
         "Standard",
         "T-shirt",
         "M",
         "Shipped",
         "1",
         "INR",
         "1233.0",
         "VISAKHAPATNAM",
         "ANDHRA PRADESH",
         "530016.0",
         "IN",
         "False",
         "Easy Ship"
        ],
        [
         "33",
         "33",
         "402-1465437-0579556",
         "2022-04-30 00:00:00",
         "Shipped - Delivered to Buyer",
         "Merchant",
         "Amazon.in",
         "Standard",
         "Shirt",
         "M",
         "Shipped",
         "1",
         "INR",
         "517.0",
         "JEYPUR",
         "ODISHA",
         "764001.0",
         "IN",
         "False",
         "Easy Ship"
        ],
        [
         "34",
         "34",
         "404-7774085-3780319",
         "2022-04-30 00:00:00",
         "Shipped",
         "Amazon",
         "Amazon.in",
         "Expedited",
         "Shirt",
         "XL",
         "Shipped",
         "1",
         "INR",
         "376.0",
         "HYDERABAD",
         "TELANGANA",
         "500028.0",
         "IN",
         "False",
         null
        ],
        [
         "35",
         "35",
         "402-2764952-1492318",
         "2022-04-30 00:00:00",
         "Shipped - Delivered to Buyer",
         "Merchant",
         "Amazon.in",
         "Standard",
         "Shirt",
         "XL",
         "Shipped",
         "1",
         "INR",
         "499.0",
         "LUCKNOW",
         "UTTAR PRADESH",
         "226016.0",
         "IN",
         "False",
         "Easy Ship"
        ],
        [
         "36",
         "36",
         "406-0272200-7784379",
         "2022-04-30 00:00:00",
         "Shipped",
         "Amazon",
         "Amazon.in",
         "Expedited",
         "T-shirt",
         "L",
         "Shipped",
         "1",
         "INR",
         "666.0",
         "CHENNAI",
         "TAMIL NADU",
         "600033.0",
         "IN",
         "False",
         null
        ],
        [
         "37",
         "37",
         "403-4367956-2849158",
         "2022-04-30 00:00:00",
         "Shipped",
         "Amazon",
         "Amazon.in",
         "Expedited",
         "Shirt",
         "S",
         "Shipped",
         "1",
         "INR",
         "487.0",
         "NEW DELHI",
         "DELHI",
         "110092.0",
         "IN",
         "False",
         null
        ],
        [
         "38",
         "38",
         "403-4367956-2849158",
         "2022-04-30 00:00:00",
         "Shipped",
         "Amazon",
         "Amazon.in",
         "Expedited",
         "Shirt",
         "S",
         "Shipped",
         "1",
         "INR",
         "368.0",
         "NEW DELHI",
         "DELHI",
         "110092.0",
         "IN",
         "False",
         null
        ],
        [
         "39",
         "39",
         "403-4242957-8599555",
         "2022-04-30 00:00:00",
         "Shipped",
         "Amazon",
         "Amazon.in",
         "Expedited",
         "Shirt",
         "L",
         "Shipped",
         "1",
         "INR",
         "399.0",
         "THIRUVANANTHAPURAM",
         "KERALA",
         "695011.0",
         "IN",
         "False",
         null
        ],
        [
         "40",
         "40",
         "408-7165704-5643524",
         "2022-04-30 00:00:00",
         "Shipped",
         "Amazon",
         "Amazon.in",
         "Expedited",
         "Perfume",
         "Free",
         "Shipped",
         "1",
         "INR",
         "699.0",
         "GREATER NOIDA",
         "UTTAR PRADESH",
         "201306.0",
         "IN",
         "False",
         null
        ],
        [
         "41",
         "41",
         "402-8210765-3935569",
         "2022-04-30 00:00:00",
         "Shipped",
         "Amazon",
         "Amazon.in",
         "Expedited",
         "Blazzer",
         "3XL",
         "Shipped",
         "1",
         "INR",
         "885.0",
         "JABALPUR",
         "MADHYA PRADESH",
         "482002.0",
         "IN",
         "False",
         null
        ],
        [
         "42",
         "42",
         "406-7398201-3869914",
         "2022-04-30 00:00:00",
         "Shipped - Delivered to Buyer",
         "Merchant",
         "Amazon.in",
         "Standard",
         "Shirt",
         "M",
         "Shipped",
         "1",
         "INR",
         "424.0",
         "MUMBAI",
         "MAHARASHTRA",
         "400092.0",
         "IN",
         "False",
         "Easy Ship"
        ],
        [
         "43",
         "43",
         "408-3478480-0881162",
         "2022-04-30 00:00:00",
         "Shipped",
         "Amazon",
         "Amazon.in",
         "Expedited",
         "T-shirt",
         "M",
         "Shipped",
         "1",
         "INR",
         "1126.0",
         "LUCKNOW",
         "UTTAR PRADESH",
         "226017.0",
         "IN",
         "False",
         null
        ],
        [
         "44",
         "44",
         "402-7595162-9129931",
         "2022-04-30 00:00:00",
         "Shipped",
         "Amazon",
         "Amazon.in",
         "Expedited",
         "T-shirt",
         "L",
         "Shipped",
         "1",
         "INR",
         "788.0",
         "MUMBAI",
         "MAHARASHTRA",
         "400076.0",
         "IN",
         "False",
         null
        ],
        [
         "45",
         "45",
         "171-6876154-6233146",
         "2022-04-30 00:00:00",
         "Shipped",
         "Amazon",
         "Amazon.in",
         "Expedited",
         "T-shirt",
         "S",
         "Shipped",
         "1",
         "INR",
         "759.0",
         "KOLKATA",
         "WEST BENGAL",
         "700014.0",
         "IN",
         "False",
         null
        ],
        [
         "46",
         "46",
         "408-3917043-5314763",
         "2022-04-30 00:00:00",
         "Shipped",
         "Amazon",
         "Amazon.in",
         "Expedited",
         "T-shirt",
         "L",
         "Shipped",
         "1",
         "INR",
         "1146.0",
         "ONGOLE",
         "ANDHRA PRADESH",
         "523001.0",
         "IN",
         "False",
         null
        ],
        [
         "47",
         "47",
         "408-9281152-6213100",
         "2022-04-30 00:00:00",
         "Shipped",
         "Amazon",
         "Amazon.in",
         "Expedited",
         "Trousers",
         "S",
         "Shipped",
         "1",
         "INR",
         "665.0",
         "SECUNDERABAD",
         "TELANGANA",
         "500017.0",
         "IN",
         "False",
         null
        ],
        [
         "48",
         "48",
         "403-3496411-3082707",
         "2022-04-30 00:00:00",
         "Shipped",
         "Amazon",
         "Amazon.in",
         "Expedited",
         "Shirt",
         "S",
         "Shipped",
         "1",
         "INR",
         "429.0",
         "HYDERABAD",
         "TELANGANA",
         "500062.0",
         "IN",
         "False",
         null
        ],
        [
         "49",
         "49",
         "171-9208368-0157156",
         "2022-04-30 00:00:00",
         "Shipped - Delivered to Buyer",
         "Merchant",
         "Amazon.in",
         "Standard",
         "Shirt",
         "M",
         "Shipped",
         "1",
         "INR",
         "399.0",
         "KEWALPUR",
         "UTTAR PRADESH",
         "271881.0",
         "IN",
         "False",
         "Easy Ship"
        ]
       ],
       "shape": {
        "columns": 19,
        "rows": 128976
       }
      },
      "text/html": [
       "<div>\n",
       "<style scoped>\n",
       "    .dataframe tbody tr th:only-of-type {\n",
       "        vertical-align: middle;\n",
       "    }\n",
       "\n",
       "    .dataframe tbody tr th {\n",
       "        vertical-align: top;\n",
       "    }\n",
       "\n",
       "    .dataframe thead th {\n",
       "        text-align: right;\n",
       "    }\n",
       "</style>\n",
       "<table border=\"1\" class=\"dataframe\">\n",
       "  <thead>\n",
       "    <tr style=\"text-align: right;\">\n",
       "      <th></th>\n",
       "      <th>index</th>\n",
       "      <th>Order ID</th>\n",
       "      <th>Date</th>\n",
       "      <th>Status</th>\n",
       "      <th>Fulfilment</th>\n",
       "      <th>Sales Channel</th>\n",
       "      <th>ship-service-level</th>\n",
       "      <th>Category</th>\n",
       "      <th>Size</th>\n",
       "      <th>Courier Status</th>\n",
       "      <th>Qty</th>\n",
       "      <th>currency</th>\n",
       "      <th>Amount</th>\n",
       "      <th>ship-city</th>\n",
       "      <th>ship-state</th>\n",
       "      <th>ship-postal-code</th>\n",
       "      <th>ship-country</th>\n",
       "      <th>B2B</th>\n",
       "      <th>fulfilled-by</th>\n",
       "    </tr>\n",
       "  </thead>\n",
       "  <tbody>\n",
       "    <tr>\n",
       "      <th>0</th>\n",
       "      <td>0</td>\n",
       "      <td>405-8078784-5731545</td>\n",
       "      <td>2022-04-30</td>\n",
       "      <td>Cancelled</td>\n",
       "      <td>Merchant</td>\n",
       "      <td>Amazon.in</td>\n",
       "      <td>Standard</td>\n",
       "      <td>T-shirt</td>\n",
       "      <td>S</td>\n",
       "      <td>On the Way</td>\n",
       "      <td>0</td>\n",
       "      <td>INR</td>\n",
       "      <td>647.62</td>\n",
       "      <td>MUMBAI</td>\n",
       "      <td>MAHARASHTRA</td>\n",
       "      <td>400081.0</td>\n",
       "      <td>IN</td>\n",
       "      <td>False</td>\n",
       "      <td>Easy Ship</td>\n",
       "    </tr>\n",
       "    <tr>\n",
       "      <th>1</th>\n",
       "      <td>1</td>\n",
       "      <td>171-9198151-1101146</td>\n",
       "      <td>2022-04-30</td>\n",
       "      <td>Shipped - Delivered to Buyer</td>\n",
       "      <td>Merchant</td>\n",
       "      <td>Amazon.in</td>\n",
       "      <td>Standard</td>\n",
       "      <td>Shirt</td>\n",
       "      <td>3XL</td>\n",
       "      <td>Shipped</td>\n",
       "      <td>1</td>\n",
       "      <td>INR</td>\n",
       "      <td>406.00</td>\n",
       "      <td>BENGALURU</td>\n",
       "      <td>KARNATAKA</td>\n",
       "      <td>560085.0</td>\n",
       "      <td>IN</td>\n",
       "      <td>False</td>\n",
       "      <td>Easy Ship</td>\n",
       "    </tr>\n",
       "    <tr>\n",
       "      <th>2</th>\n",
       "      <td>2</td>\n",
       "      <td>404-0687676-7273146</td>\n",
       "      <td>2022-04-30</td>\n",
       "      <td>Shipped</td>\n",
       "      <td>Amazon</td>\n",
       "      <td>Amazon.in</td>\n",
       "      <td>Expedited</td>\n",
       "      <td>Shirt</td>\n",
       "      <td>XL</td>\n",
       "      <td>Shipped</td>\n",
       "      <td>1</td>\n",
       "      <td>INR</td>\n",
       "      <td>329.00</td>\n",
       "      <td>NAVI MUMBAI</td>\n",
       "      <td>MAHARASHTRA</td>\n",
       "      <td>410210.0</td>\n",
       "      <td>IN</td>\n",
       "      <td>True</td>\n",
       "      <td>NaN</td>\n",
       "    </tr>\n",
       "    <tr>\n",
       "      <th>3</th>\n",
       "      <td>3</td>\n",
       "      <td>403-9615377-8133951</td>\n",
       "      <td>2022-04-30</td>\n",
       "      <td>Cancelled</td>\n",
       "      <td>Merchant</td>\n",
       "      <td>Amazon.in</td>\n",
       "      <td>Standard</td>\n",
       "      <td>Blazzer</td>\n",
       "      <td>L</td>\n",
       "      <td>On the Way</td>\n",
       "      <td>0</td>\n",
       "      <td>INR</td>\n",
       "      <td>753.33</td>\n",
       "      <td>PUDUCHERRY</td>\n",
       "      <td>PUDUCHERRY</td>\n",
       "      <td>605008.0</td>\n",
       "      <td>IN</td>\n",
       "      <td>False</td>\n",
       "      <td>Easy Ship</td>\n",
       "    </tr>\n",
       "    <tr>\n",
       "      <th>4</th>\n",
       "      <td>4</td>\n",
       "      <td>407-1069790-7240320</td>\n",
       "      <td>2022-04-30</td>\n",
       "      <td>Shipped</td>\n",
       "      <td>Amazon</td>\n",
       "      <td>Amazon.in</td>\n",
       "      <td>Expedited</td>\n",
       "      <td>Trousers</td>\n",
       "      <td>3XL</td>\n",
       "      <td>Shipped</td>\n",
       "      <td>1</td>\n",
       "      <td>INR</td>\n",
       "      <td>574.00</td>\n",
       "      <td>CHENNAI</td>\n",
       "      <td>TAMIL NADU</td>\n",
       "      <td>600073.0</td>\n",
       "      <td>IN</td>\n",
       "      <td>False</td>\n",
       "      <td>NaN</td>\n",
       "    </tr>\n",
       "    <tr>\n",
       "      <th>...</th>\n",
       "      <td>...</td>\n",
       "      <td>...</td>\n",
       "      <td>...</td>\n",
       "      <td>...</td>\n",
       "      <td>...</td>\n",
       "      <td>...</td>\n",
       "      <td>...</td>\n",
       "      <td>...</td>\n",
       "      <td>...</td>\n",
       "      <td>...</td>\n",
       "      <td>...</td>\n",
       "      <td>...</td>\n",
       "      <td>...</td>\n",
       "      <td>...</td>\n",
       "      <td>...</td>\n",
       "      <td>...</td>\n",
       "      <td>...</td>\n",
       "      <td>...</td>\n",
       "      <td>...</td>\n",
       "    </tr>\n",
       "    <tr>\n",
       "      <th>128971</th>\n",
       "      <td>128970</td>\n",
       "      <td>406-6001380-7673107</td>\n",
       "      <td>2022-05-31</td>\n",
       "      <td>Shipped</td>\n",
       "      <td>Amazon</td>\n",
       "      <td>Amazon.in</td>\n",
       "      <td>Expedited</td>\n",
       "      <td>Shirt</td>\n",
       "      <td>XL</td>\n",
       "      <td>Shipped</td>\n",
       "      <td>1</td>\n",
       "      <td>INR</td>\n",
       "      <td>517.00</td>\n",
       "      <td>HYDERABAD</td>\n",
       "      <td>TELANGANA</td>\n",
       "      <td>500013.0</td>\n",
       "      <td>IN</td>\n",
       "      <td>False</td>\n",
       "      <td>NaN</td>\n",
       "    </tr>\n",
       "    <tr>\n",
       "      <th>128972</th>\n",
       "      <td>128971</td>\n",
       "      <td>402-9551604-7544318</td>\n",
       "      <td>2022-05-31</td>\n",
       "      <td>Shipped</td>\n",
       "      <td>Amazon</td>\n",
       "      <td>Amazon.in</td>\n",
       "      <td>Expedited</td>\n",
       "      <td>T-shirt</td>\n",
       "      <td>M</td>\n",
       "      <td>Shipped</td>\n",
       "      <td>1</td>\n",
       "      <td>INR</td>\n",
       "      <td>999.00</td>\n",
       "      <td>GURUGRAM</td>\n",
       "      <td>HARYANA</td>\n",
       "      <td>122004.0</td>\n",
       "      <td>IN</td>\n",
       "      <td>False</td>\n",
       "      <td>NaN</td>\n",
       "    </tr>\n",
       "    <tr>\n",
       "      <th>128973</th>\n",
       "      <td>128972</td>\n",
       "      <td>407-9547469-3152358</td>\n",
       "      <td>2022-05-31</td>\n",
       "      <td>Shipped</td>\n",
       "      <td>Amazon</td>\n",
       "      <td>Amazon.in</td>\n",
       "      <td>Expedited</td>\n",
       "      <td>Blazzer</td>\n",
       "      <td>XXL</td>\n",
       "      <td>Shipped</td>\n",
       "      <td>1</td>\n",
       "      <td>INR</td>\n",
       "      <td>690.00</td>\n",
       "      <td>HYDERABAD</td>\n",
       "      <td>TELANGANA</td>\n",
       "      <td>500049.0</td>\n",
       "      <td>IN</td>\n",
       "      <td>False</td>\n",
       "      <td>NaN</td>\n",
       "    </tr>\n",
       "    <tr>\n",
       "      <th>128974</th>\n",
       "      <td>128973</td>\n",
       "      <td>402-6184140-0545956</td>\n",
       "      <td>2022-05-31</td>\n",
       "      <td>Shipped</td>\n",
       "      <td>Amazon</td>\n",
       "      <td>Amazon.in</td>\n",
       "      <td>Expedited</td>\n",
       "      <td>T-shirt</td>\n",
       "      <td>XS</td>\n",
       "      <td>Shipped</td>\n",
       "      <td>1</td>\n",
       "      <td>INR</td>\n",
       "      <td>1199.00</td>\n",
       "      <td>Halol</td>\n",
       "      <td>Gujarat</td>\n",
       "      <td>389350.0</td>\n",
       "      <td>IN</td>\n",
       "      <td>False</td>\n",
       "      <td>NaN</td>\n",
       "    </tr>\n",
       "    <tr>\n",
       "      <th>128975</th>\n",
       "      <td>128974</td>\n",
       "      <td>408-7436540-8728312</td>\n",
       "      <td>2022-05-31</td>\n",
       "      <td>Shipped</td>\n",
       "      <td>Amazon</td>\n",
       "      <td>Amazon.in</td>\n",
       "      <td>Expedited</td>\n",
       "      <td>T-shirt</td>\n",
       "      <td>S</td>\n",
       "      <td>Shipped</td>\n",
       "      <td>1</td>\n",
       "      <td>INR</td>\n",
       "      <td>696.00</td>\n",
       "      <td>Raipur</td>\n",
       "      <td>CHHATTISGARH</td>\n",
       "      <td>492014.0</td>\n",
       "      <td>IN</td>\n",
       "      <td>False</td>\n",
       "      <td>NaN</td>\n",
       "    </tr>\n",
       "  </tbody>\n",
       "</table>\n",
       "<p>128976 rows × 19 columns</p>\n",
       "</div>"
      ],
      "text/plain": [
       "         index             Order ID       Date                        Status  \\\n",
       "0            0  405-8078784-5731545 2022-04-30                     Cancelled   \n",
       "1            1  171-9198151-1101146 2022-04-30  Shipped - Delivered to Buyer   \n",
       "2            2  404-0687676-7273146 2022-04-30                       Shipped   \n",
       "3            3  403-9615377-8133951 2022-04-30                     Cancelled   \n",
       "4            4  407-1069790-7240320 2022-04-30                       Shipped   \n",
       "...        ...                  ...        ...                           ...   \n",
       "128971  128970  406-6001380-7673107 2022-05-31                       Shipped   \n",
       "128972  128971  402-9551604-7544318 2022-05-31                       Shipped   \n",
       "128973  128972  407-9547469-3152358 2022-05-31                       Shipped   \n",
       "128974  128973  402-6184140-0545956 2022-05-31                       Shipped   \n",
       "128975  128974  408-7436540-8728312 2022-05-31                       Shipped   \n",
       "\n",
       "       Fulfilment Sales Channel ship-service-level  Category Size  \\\n",
       "0        Merchant     Amazon.in           Standard   T-shirt    S   \n",
       "1        Merchant     Amazon.in           Standard     Shirt  3XL   \n",
       "2          Amazon     Amazon.in          Expedited     Shirt   XL   \n",
       "3        Merchant     Amazon.in           Standard   Blazzer    L   \n",
       "4          Amazon     Amazon.in          Expedited  Trousers  3XL   \n",
       "...           ...           ...                ...       ...  ...   \n",
       "128971     Amazon     Amazon.in          Expedited     Shirt   XL   \n",
       "128972     Amazon     Amazon.in          Expedited   T-shirt    M   \n",
       "128973     Amazon     Amazon.in          Expedited   Blazzer  XXL   \n",
       "128974     Amazon     Amazon.in          Expedited   T-shirt   XS   \n",
       "128975     Amazon     Amazon.in          Expedited   T-shirt    S   \n",
       "\n",
       "       Courier Status  Qty currency   Amount    ship-city    ship-state  \\\n",
       "0          On the Way    0      INR   647.62       MUMBAI   MAHARASHTRA   \n",
       "1             Shipped    1      INR   406.00    BENGALURU     KARNATAKA   \n",
       "2             Shipped    1      INR   329.00  NAVI MUMBAI   MAHARASHTRA   \n",
       "3          On the Way    0      INR   753.33   PUDUCHERRY    PUDUCHERRY   \n",
       "4             Shipped    1      INR   574.00      CHENNAI    TAMIL NADU   \n",
       "...               ...  ...      ...      ...          ...           ...   \n",
       "128971        Shipped    1      INR   517.00    HYDERABAD     TELANGANA   \n",
       "128972        Shipped    1      INR   999.00     GURUGRAM       HARYANA   \n",
       "128973        Shipped    1      INR   690.00    HYDERABAD     TELANGANA   \n",
       "128974        Shipped    1      INR  1199.00        Halol       Gujarat   \n",
       "128975        Shipped    1      INR   696.00       Raipur  CHHATTISGARH   \n",
       "\n",
       "        ship-postal-code ship-country    B2B fulfilled-by  \n",
       "0               400081.0           IN  False    Easy Ship  \n",
       "1               560085.0           IN  False    Easy Ship  \n",
       "2               410210.0           IN   True          NaN  \n",
       "3               605008.0           IN  False    Easy Ship  \n",
       "4               600073.0           IN  False          NaN  \n",
       "...                  ...          ...    ...          ...  \n",
       "128971          500013.0           IN  False          NaN  \n",
       "128972          122004.0           IN  False          NaN  \n",
       "128973          500049.0           IN  False          NaN  \n",
       "128974          389350.0           IN  False          NaN  \n",
       "128975          492014.0           IN  False          NaN  \n",
       "\n",
       "[128976 rows x 19 columns]"
      ]
     },
     "execution_count": 7,
     "metadata": {},
     "output_type": "execute_result"
    }
   ],
   "source": [
    "Amazon_Sales"
   ]
  },
  {
   "cell_type": "code",
   "execution_count": 39,
   "id": "8d7a2126",
   "metadata": {},
   "outputs": [],
   "source": [
    "Amazon_Sales.to_csv(\"Clean Data\")"
   ]
  },
  {
   "cell_type": "code",
   "execution_count": null,
   "id": "fa085683",
   "metadata": {},
   "outputs": [
    {
     "data": {
      "application/vnd.microsoft.datawrangler.viewer.v0+json": {
       "columns": [
        {
         "name": "index",
         "rawType": "int64",
         "type": "integer"
        },
        {
         "name": "Date",
         "rawType": "datetime64[ns]",
         "type": "datetime"
        },
        {
         "name": "Amount",
         "rawType": "float64",
         "type": "float"
        }
       ],
       "ref": "3a3c62ed-5a31-44df-8549-0e38522f644e",
       "rows": [
        [
         "0",
         "2022-04-30 00:00:00",
         "647.62"
        ],
        [
         "1",
         "2022-04-30 00:00:00",
         "406.0"
        ],
        [
         "2",
         "2022-04-30 00:00:00",
         "329.0"
        ],
        [
         "3",
         "2022-04-30 00:00:00",
         "753.33"
        ],
        [
         "4",
         "2022-04-30 00:00:00",
         "574.0"
        ],
        [
         "5",
         "2022-04-30 00:00:00",
         "824.0"
        ],
        [
         "6",
         "2022-04-30 00:00:00",
         "653.0"
        ],
        [
         "7",
         "2022-04-30 00:00:00",
         "399.0"
        ],
        [
         "8",
         "2022-04-30 00:00:00",
         null
        ],
        [
         "9",
         "2022-04-30 00:00:00",
         "363.0"
        ],
        [
         "10",
         "2022-04-30 00:00:00",
         "685.0"
        ],
        [
         "11",
         "2022-04-30 00:00:00",
         "364.0"
        ],
        [
         "12",
         "2022-04-30 00:00:00",
         "399.0"
        ],
        [
         "13",
         "2022-04-30 00:00:00",
         "657.0"
        ],
        [
         "14",
         "2022-04-30 00:00:00",
         "771.0"
        ],
        [
         "15",
         "2022-04-30 00:00:00",
         "544.0"
        ],
        [
         "16",
         "2022-04-30 00:00:00",
         "329.0"
        ],
        [
         "17",
         "2022-04-30 00:00:00",
         "399.0"
        ],
        [
         "18",
         "2022-04-30 00:00:00",
         "458.0"
        ],
        [
         "19",
         "2022-04-30 00:00:00",
         "886.0"
        ],
        [
         "20",
         "2022-04-30 00:00:00",
         "517.0"
        ],
        [
         "21",
         "2022-04-30 00:00:00",
         "666.0"
        ],
        [
         "22",
         "2022-04-30 00:00:00",
         "376.0"
        ],
        [
         "23",
         "2022-04-30 00:00:00",
         "570.48"
        ],
        [
         "24",
         "2022-04-30 00:00:00",
         "499.0"
        ],
        [
         "25",
         "2022-04-30 00:00:00",
         "582.0"
        ],
        [
         "26",
         "2022-04-30 00:00:00",
         "299.0"
        ],
        [
         "27",
         "2022-04-30 00:00:00",
         "459.0"
        ],
        [
         "28",
         "2022-04-30 00:00:00",
         "399.0"
        ],
        [
         "29",
         "2022-04-30 00:00:00",
         null
        ],
        [
         "30",
         "2022-04-30 00:00:00",
         "791.0"
        ],
        [
         "31",
         "2022-04-30 00:00:00",
         "499.0"
        ],
        [
         "32",
         "2022-04-30 00:00:00",
         "1233.0"
        ],
        [
         "33",
         "2022-04-30 00:00:00",
         "517.0"
        ],
        [
         "34",
         "2022-04-30 00:00:00",
         "376.0"
        ],
        [
         "35",
         "2022-04-30 00:00:00",
         "499.0"
        ],
        [
         "36",
         "2022-04-30 00:00:00",
         "666.0"
        ],
        [
         "37",
         "2022-04-30 00:00:00",
         "487.0"
        ],
        [
         "38",
         "2022-04-30 00:00:00",
         "368.0"
        ],
        [
         "39",
         "2022-04-30 00:00:00",
         "399.0"
        ],
        [
         "40",
         "2022-04-30 00:00:00",
         "699.0"
        ],
        [
         "41",
         "2022-04-30 00:00:00",
         "885.0"
        ],
        [
         "42",
         "2022-04-30 00:00:00",
         "424.0"
        ],
        [
         "43",
         "2022-04-30 00:00:00",
         "1126.0"
        ],
        [
         "44",
         "2022-04-30 00:00:00",
         "788.0"
        ],
        [
         "45",
         "2022-04-30 00:00:00",
         "759.0"
        ],
        [
         "46",
         "2022-04-30 00:00:00",
         "1146.0"
        ],
        [
         "47",
         "2022-04-30 00:00:00",
         "665.0"
        ],
        [
         "48",
         "2022-04-30 00:00:00",
         "429.0"
        ],
        [
         "49",
         "2022-04-30 00:00:00",
         "399.0"
        ]
       ],
       "shape": {
        "columns": 2,
        "rows": 128976
       }
      },
      "text/html": [
       "<div>\n",
       "<style scoped>\n",
       "    .dataframe tbody tr th:only-of-type {\n",
       "        vertical-align: middle;\n",
       "    }\n",
       "\n",
       "    .dataframe tbody tr th {\n",
       "        vertical-align: top;\n",
       "    }\n",
       "\n",
       "    .dataframe thead th {\n",
       "        text-align: right;\n",
       "    }\n",
       "</style>\n",
       "<table border=\"1\" class=\"dataframe\">\n",
       "  <thead>\n",
       "    <tr style=\"text-align: right;\">\n",
       "      <th></th>\n",
       "      <th>Date</th>\n",
       "      <th>Amount</th>\n",
       "    </tr>\n",
       "  </thead>\n",
       "  <tbody>\n",
       "    <tr>\n",
       "      <th>0</th>\n",
       "      <td>2022-04-30</td>\n",
       "      <td>647.62</td>\n",
       "    </tr>\n",
       "    <tr>\n",
       "      <th>1</th>\n",
       "      <td>2022-04-30</td>\n",
       "      <td>406.00</td>\n",
       "    </tr>\n",
       "    <tr>\n",
       "      <th>2</th>\n",
       "      <td>2022-04-30</td>\n",
       "      <td>329.00</td>\n",
       "    </tr>\n",
       "    <tr>\n",
       "      <th>3</th>\n",
       "      <td>2022-04-30</td>\n",
       "      <td>753.33</td>\n",
       "    </tr>\n",
       "    <tr>\n",
       "      <th>4</th>\n",
       "      <td>2022-04-30</td>\n",
       "      <td>574.00</td>\n",
       "    </tr>\n",
       "    <tr>\n",
       "      <th>...</th>\n",
       "      <td>...</td>\n",
       "      <td>...</td>\n",
       "    </tr>\n",
       "    <tr>\n",
       "      <th>128971</th>\n",
       "      <td>2022-05-31</td>\n",
       "      <td>517.00</td>\n",
       "    </tr>\n",
       "    <tr>\n",
       "      <th>128972</th>\n",
       "      <td>2022-05-31</td>\n",
       "      <td>999.00</td>\n",
       "    </tr>\n",
       "    <tr>\n",
       "      <th>128973</th>\n",
       "      <td>2022-05-31</td>\n",
       "      <td>690.00</td>\n",
       "    </tr>\n",
       "    <tr>\n",
       "      <th>128974</th>\n",
       "      <td>2022-05-31</td>\n",
       "      <td>1199.00</td>\n",
       "    </tr>\n",
       "    <tr>\n",
       "      <th>128975</th>\n",
       "      <td>2022-05-31</td>\n",
       "      <td>696.00</td>\n",
       "    </tr>\n",
       "  </tbody>\n",
       "</table>\n",
       "<p>128976 rows × 2 columns</p>\n",
       "</div>"
      ],
      "text/plain": [
       "             Date   Amount\n",
       "0      2022-04-30   647.62\n",
       "1      2022-04-30   406.00\n",
       "2      2022-04-30   329.00\n",
       "3      2022-04-30   753.33\n",
       "4      2022-04-30   574.00\n",
       "...           ...      ...\n",
       "128971 2022-05-31   517.00\n",
       "128972 2022-05-31   999.00\n",
       "128973 2022-05-31   690.00\n",
       "128974 2022-05-31  1199.00\n",
       "128975 2022-05-31   696.00\n",
       "\n",
       "[128976 rows x 2 columns]"
      ]
     },
     "execution_count": 8,
     "metadata": {},
     "output_type": "execute_result"
    }
   ],
   "source": [
    "#Year with the highest sales\n",
    "Date_sales = Amazon_Sales[[\"Date\", \"Amount\"]]\n",
    "Date_sales\n"
   ]
  },
  {
   "cell_type": "markdown",
   "id": "78852bc9",
   "metadata": {},
   "source": [
    "## ANALYSIS"
   ]
  },
  {
   "cell_type": "code",
   "execution_count": 9,
   "id": "da2c8a70",
   "metadata": {
    "scrolled": true
   },
   "outputs": [
    {
     "name": "stderr",
     "output_type": "stream",
     "text": [
      "C:\\Users\\DELL\\AppData\\Local\\Temp\\ipykernel_4660\\2139426831.py:1: SettingWithCopyWarning: \n",
      "A value is trying to be set on a copy of a slice from a DataFrame.\n",
      "Try using .loc[row_indexer,col_indexer] = value instead\n",
      "\n",
      "See the caveats in the documentation: https://pandas.pydata.org/pandas-docs/stable/user_guide/indexing.html#returning-a-view-versus-a-copy\n",
      "  Date_sales[\"Month\"] = Date_sales[\"Date\"].dt.month_name()\n",
      "C:\\Users\\DELL\\AppData\\Local\\Temp\\ipykernel_4660\\2139426831.py:2: SettingWithCopyWarning: \n",
      "A value is trying to be set on a copy of a slice from a DataFrame.\n",
      "Try using .loc[row_indexer,col_indexer] = value instead\n",
      "\n",
      "See the caveats in the documentation: https://pandas.pydata.org/pandas-docs/stable/user_guide/indexing.html#returning-a-view-versus-a-copy\n",
      "  Date_sales[\"Year\"] = Date_sales[\"Date\"].dt.year\n"
     ]
    }
   ],
   "source": [
    "Date_sales[\"Month\"] = Date_sales[\"Date\"].dt.month_name()\n",
    "Date_sales[\"Year\"] = Date_sales[\"Date\"].dt.year"
   ]
  },
  {
   "cell_type": "code",
   "execution_count": 10,
   "id": "f3bf241a",
   "metadata": {
    "scrolled": true
   },
   "outputs": [
    {
     "name": "stderr",
     "output_type": "stream",
     "text": [
      "C:\\Users\\DELL\\AppData\\Local\\Temp\\ipykernel_4660\\4146673913.py:1: SettingWithCopyWarning: \n",
      "A value is trying to be set on a copy of a slice from a DataFrame\n",
      "\n",
      "See the caveats in the documentation: https://pandas.pydata.org/pandas-docs/stable/user_guide/indexing.html#returning-a-view-versus-a-copy\n",
      "  Date_sales.drop(columns = [\"Date\"], inplace = True)\n"
     ]
    }
   ],
   "source": [
    "Date_sales.drop(columns = [\"Date\"], inplace = True)"
   ]
  },
  {
   "cell_type": "code",
   "execution_count": 11,
   "id": "74040210",
   "metadata": {},
   "outputs": [
    {
     "data": {
      "application/vnd.microsoft.datawrangler.viewer.v0+json": {
       "columns": [
        {
         "name": "index",
         "rawType": "int64",
         "type": "integer"
        },
        {
         "name": "Amount",
         "rawType": "float64",
         "type": "float"
        },
        {
         "name": "Month",
         "rawType": "object",
         "type": "string"
        },
        {
         "name": "Year",
         "rawType": "int32",
         "type": "integer"
        }
       ],
       "ref": "4c30ecc1-eadc-4e9b-a825-ab3d016f02a0",
       "rows": [
        [
         "0",
         "647.62",
         "April",
         "2022"
        ],
        [
         "1",
         "406.0",
         "April",
         "2022"
        ],
        [
         "2",
         "329.0",
         "April",
         "2022"
        ],
        [
         "3",
         "753.33",
         "April",
         "2022"
        ],
        [
         "4",
         "574.0",
         "April",
         "2022"
        ],
        [
         "5",
         "824.0",
         "April",
         "2022"
        ],
        [
         "6",
         "653.0",
         "April",
         "2022"
        ],
        [
         "7",
         "399.0",
         "April",
         "2022"
        ],
        [
         "8",
         null,
         "April",
         "2022"
        ],
        [
         "9",
         "363.0",
         "April",
         "2022"
        ],
        [
         "10",
         "685.0",
         "April",
         "2022"
        ],
        [
         "11",
         "364.0",
         "April",
         "2022"
        ],
        [
         "12",
         "399.0",
         "April",
         "2022"
        ],
        [
         "13",
         "657.0",
         "April",
         "2022"
        ],
        [
         "14",
         "771.0",
         "April",
         "2022"
        ],
        [
         "15",
         "544.0",
         "April",
         "2022"
        ],
        [
         "16",
         "329.0",
         "April",
         "2022"
        ],
        [
         "17",
         "399.0",
         "April",
         "2022"
        ],
        [
         "18",
         "458.0",
         "April",
         "2022"
        ],
        [
         "19",
         "886.0",
         "April",
         "2022"
        ],
        [
         "20",
         "517.0",
         "April",
         "2022"
        ],
        [
         "21",
         "666.0",
         "April",
         "2022"
        ],
        [
         "22",
         "376.0",
         "April",
         "2022"
        ],
        [
         "23",
         "570.48",
         "April",
         "2022"
        ],
        [
         "24",
         "499.0",
         "April",
         "2022"
        ],
        [
         "25",
         "582.0",
         "April",
         "2022"
        ],
        [
         "26",
         "299.0",
         "April",
         "2022"
        ],
        [
         "27",
         "459.0",
         "April",
         "2022"
        ],
        [
         "28",
         "399.0",
         "April",
         "2022"
        ],
        [
         "29",
         null,
         "April",
         "2022"
        ],
        [
         "30",
         "791.0",
         "April",
         "2022"
        ],
        [
         "31",
         "499.0",
         "April",
         "2022"
        ],
        [
         "32",
         "1233.0",
         "April",
         "2022"
        ],
        [
         "33",
         "517.0",
         "April",
         "2022"
        ],
        [
         "34",
         "376.0",
         "April",
         "2022"
        ],
        [
         "35",
         "499.0",
         "April",
         "2022"
        ],
        [
         "36",
         "666.0",
         "April",
         "2022"
        ],
        [
         "37",
         "487.0",
         "April",
         "2022"
        ],
        [
         "38",
         "368.0",
         "April",
         "2022"
        ],
        [
         "39",
         "399.0",
         "April",
         "2022"
        ],
        [
         "40",
         "699.0",
         "April",
         "2022"
        ],
        [
         "41",
         "885.0",
         "April",
         "2022"
        ],
        [
         "42",
         "424.0",
         "April",
         "2022"
        ],
        [
         "43",
         "1126.0",
         "April",
         "2022"
        ],
        [
         "44",
         "788.0",
         "April",
         "2022"
        ],
        [
         "45",
         "759.0",
         "April",
         "2022"
        ],
        [
         "46",
         "1146.0",
         "April",
         "2022"
        ],
        [
         "47",
         "665.0",
         "April",
         "2022"
        ],
        [
         "48",
         "429.0",
         "April",
         "2022"
        ],
        [
         "49",
         "399.0",
         "April",
         "2022"
        ]
       ],
       "shape": {
        "columns": 3,
        "rows": 128976
       }
      },
      "text/html": [
       "<div>\n",
       "<style scoped>\n",
       "    .dataframe tbody tr th:only-of-type {\n",
       "        vertical-align: middle;\n",
       "    }\n",
       "\n",
       "    .dataframe tbody tr th {\n",
       "        vertical-align: top;\n",
       "    }\n",
       "\n",
       "    .dataframe thead th {\n",
       "        text-align: right;\n",
       "    }\n",
       "</style>\n",
       "<table border=\"1\" class=\"dataframe\">\n",
       "  <thead>\n",
       "    <tr style=\"text-align: right;\">\n",
       "      <th></th>\n",
       "      <th>Amount</th>\n",
       "      <th>Month</th>\n",
       "      <th>Year</th>\n",
       "    </tr>\n",
       "  </thead>\n",
       "  <tbody>\n",
       "    <tr>\n",
       "      <th>0</th>\n",
       "      <td>647.62</td>\n",
       "      <td>April</td>\n",
       "      <td>2022</td>\n",
       "    </tr>\n",
       "    <tr>\n",
       "      <th>1</th>\n",
       "      <td>406.00</td>\n",
       "      <td>April</td>\n",
       "      <td>2022</td>\n",
       "    </tr>\n",
       "    <tr>\n",
       "      <th>2</th>\n",
       "      <td>329.00</td>\n",
       "      <td>April</td>\n",
       "      <td>2022</td>\n",
       "    </tr>\n",
       "    <tr>\n",
       "      <th>3</th>\n",
       "      <td>753.33</td>\n",
       "      <td>April</td>\n",
       "      <td>2022</td>\n",
       "    </tr>\n",
       "    <tr>\n",
       "      <th>4</th>\n",
       "      <td>574.00</td>\n",
       "      <td>April</td>\n",
       "      <td>2022</td>\n",
       "    </tr>\n",
       "    <tr>\n",
       "      <th>...</th>\n",
       "      <td>...</td>\n",
       "      <td>...</td>\n",
       "      <td>...</td>\n",
       "    </tr>\n",
       "    <tr>\n",
       "      <th>128971</th>\n",
       "      <td>517.00</td>\n",
       "      <td>May</td>\n",
       "      <td>2022</td>\n",
       "    </tr>\n",
       "    <tr>\n",
       "      <th>128972</th>\n",
       "      <td>999.00</td>\n",
       "      <td>May</td>\n",
       "      <td>2022</td>\n",
       "    </tr>\n",
       "    <tr>\n",
       "      <th>128973</th>\n",
       "      <td>690.00</td>\n",
       "      <td>May</td>\n",
       "      <td>2022</td>\n",
       "    </tr>\n",
       "    <tr>\n",
       "      <th>128974</th>\n",
       "      <td>1199.00</td>\n",
       "      <td>May</td>\n",
       "      <td>2022</td>\n",
       "    </tr>\n",
       "    <tr>\n",
       "      <th>128975</th>\n",
       "      <td>696.00</td>\n",
       "      <td>May</td>\n",
       "      <td>2022</td>\n",
       "    </tr>\n",
       "  </tbody>\n",
       "</table>\n",
       "<p>128976 rows × 3 columns</p>\n",
       "</div>"
      ],
      "text/plain": [
       "         Amount  Month  Year\n",
       "0        647.62  April  2022\n",
       "1        406.00  April  2022\n",
       "2        329.00  April  2022\n",
       "3        753.33  April  2022\n",
       "4        574.00  April  2022\n",
       "...         ...    ...   ...\n",
       "128971   517.00    May  2022\n",
       "128972   999.00    May  2022\n",
       "128973   690.00    May  2022\n",
       "128974  1199.00    May  2022\n",
       "128975   696.00    May  2022\n",
       "\n",
       "[128976 rows x 3 columns]"
      ]
     },
     "execution_count": 11,
     "metadata": {},
     "output_type": "execute_result"
    }
   ],
   "source": [
    "Date_sales"
   ]
  },
  {
   "cell_type": "markdown",
   "id": "f569eee6",
   "metadata": {},
   "source": [
    "### Total Sales By Month"
   ]
  },
  {
   "cell_type": "code",
   "execution_count": 32,
   "id": "7417e1d7",
   "metadata": {},
   "outputs": [],
   "source": [
    "Month_Sales = Date_sales.groupby([\"Month\"])[[\"Amount\"]].sum().reset_index()\n",
    "Month_Sales\n",
    "Month_Sales.to_csv(\"Month Sales\")"
   ]
  },
  {
   "cell_type": "markdown",
   "id": "116de3d0",
   "metadata": {},
   "source": [
    "Sales peaked in **April**, which could suggest strong marketing efforts, seasonal demand, or high-performing products.\n",
    "The decline in **June**, **March** significantly lower revenue suggests it may not be a peak season for sales, highlighting a possible opportunity for improvement.\n"
   ]
  },
  {
   "cell_type": "code",
   "execution_count": 13,
   "id": "9b9a0f04",
   "metadata": {},
   "outputs": [
    {
     "data": {
      "image/png": "[encoded data removed]",
      "text/plain": [
       "<Figure size 600x500 with 1 Axes>"
      ]
     },
     "metadata": {},
     "output_type": "display_data"
    }
   ],
   "source": [
    "x = Month_Sales[\"Month\"]\n",
    "y = Month_Sales[\"Amount\"]\n",
    "plt.figure(figsize = (6, 5))\n",
    "\n",
    "bar1 = plt.bar(x, y , color = (\"Orange\"), edgecolor = (\"Black\"))\n",
    "\n",
    "for bar in bar1:\n",
    "    yval = bar.get_height()\n",
    "    plt.text(bar.get_x() + bar.get_width()/2, yval, round(yval), ha = \"center\", va = \"bottom\")\n",
    "plt.xlabel(\"Month\", fontfamily = \"Arial\", fontweight = \"bold\", fontsize = 15 )\n",
    "plt.ylabel(\"Amount\", fontfamily = \"Arial\", fontweight = \"bold\", fontsize = 15)\n",
    "plt.title(\"Total Sale by Month\", fontfamily = \"Arial\", fontweight = \"bold\", fontsize = 15, color = \"blue\")\n",
    "\n",
    "plt.grid(True, color = \"Grey\", alpha = 0.1)\n",
    "plt.tight_layout()\n",
    "\n",
    "plt.show()"
   ]
  },
  {
   "cell_type": "markdown",
   "id": "126d0f12",
   "metadata": {},
   "source": [
    "The chart shows that April and May had the highest sales ($28.8M and $26.2M), June saw a slight decline ($23.4M), and March had the lowest sales ($101.7K), indicating a need to investigate March's poor performance."
   ]
  },
  {
   "cell_type": "markdown",
   "id": "7a76ed6c",
   "metadata": {},
   "source": [
    "### SALES STATUS"
   ]
  },
  {
   "cell_type": "code",
   "execution_count": 14,
   "id": "5e81204e",
   "metadata": {},
   "outputs": [
    {
     "name": "stdout",
     "output_type": "stream",
     "text": [
      "SALES STATUS OVERVIEW\n"
     ]
    },
    {
     "data": {
      "application/vnd.microsoft.datawrangler.viewer.v0+json": {
       "columns": [
        {
         "name": "index",
         "rawType": "int64",
         "type": "integer"
        },
        {
         "name": "Status",
         "rawType": "object",
         "type": "string"
        },
        {
         "name": "count",
         "rawType": "int64",
         "type": "integer"
        }
       ],
       "ref": "ea29c286-54cb-49e4-80ce-a9655991b66b",
       "rows": [
        [
         "0",
         "Shipped",
         "77815"
        ],
        [
         "1",
         "Shipped - Delivered to Buyer",
         "28756"
        ],
        [
         "2",
         "Cancelled",
         "18334"
        ],
        [
         "3",
         "Shipped - Returned to Seller",
         "1954"
        ],
        [
         "4",
         "Shipped - Picked Up",
         "973"
        ],
        [
         "5",
         "Pending",
         "658"
        ],
        [
         "6",
         "Pending - Waiting for Pick Up",
         "281"
        ],
        [
         "7",
         "Shipped - Returning to Seller",
         "145"
        ],
        [
         "8",
         "Shipped - Out for Delivery",
         "35"
        ],
        [
         "9",
         "Shipped - Rejected by Buyer",
         "11"
        ],
        [
         "10",
         "Shipping",
         "8"
        ],
        [
         "11",
         "Shipped - Lost in Transit",
         "5"
        ],
        [
         "12",
         "Shipped - Damaged",
         "1"
        ]
       ],
       "shape": {
        "columns": 2,
        "rows": 13
       }
      },
      "text/html": [
       "<div>\n",
       "<style scoped>\n",
       "    .dataframe tbody tr th:only-of-type {\n",
       "        vertical-align: middle;\n",
       "    }\n",
       "\n",
       "    .dataframe tbody tr th {\n",
       "        vertical-align: top;\n",
       "    }\n",
       "\n",
       "    .dataframe thead th {\n",
       "        text-align: right;\n",
       "    }\n",
       "</style>\n",
       "<table border=\"1\" class=\"dataframe\">\n",
       "  <thead>\n",
       "    <tr style=\"text-align: right;\">\n",
       "      <th></th>\n",
       "      <th>Status</th>\n",
       "      <th>count</th>\n",
       "    </tr>\n",
       "  </thead>\n",
       "  <tbody>\n",
       "    <tr>\n",
       "      <th>0</th>\n",
       "      <td>Shipped</td>\n",
       "      <td>77815</td>\n",
       "    </tr>\n",
       "    <tr>\n",
       "      <th>1</th>\n",
       "      <td>Shipped - Delivered to Buyer</td>\n",
       "      <td>28756</td>\n",
       "    </tr>\n",
       "    <tr>\n",
       "      <th>2</th>\n",
       "      <td>Cancelled</td>\n",
       "      <td>18334</td>\n",
       "    </tr>\n",
       "    <tr>\n",
       "      <th>3</th>\n",
       "      <td>Shipped - Returned to Seller</td>\n",
       "      <td>1954</td>\n",
       "    </tr>\n",
       "    <tr>\n",
       "      <th>4</th>\n",
       "      <td>Shipped - Picked Up</td>\n",
       "      <td>973</td>\n",
       "    </tr>\n",
       "    <tr>\n",
       "      <th>5</th>\n",
       "      <td>Pending</td>\n",
       "      <td>658</td>\n",
       "    </tr>\n",
       "    <tr>\n",
       "      <th>6</th>\n",
       "      <td>Pending - Waiting for Pick Up</td>\n",
       "      <td>281</td>\n",
       "    </tr>\n",
       "    <tr>\n",
       "      <th>7</th>\n",
       "      <td>Shipped - Returning to Seller</td>\n",
       "      <td>145</td>\n",
       "    </tr>\n",
       "    <tr>\n",
       "      <th>8</th>\n",
       "      <td>Shipped - Out for Delivery</td>\n",
       "      <td>35</td>\n",
       "    </tr>\n",
       "    <tr>\n",
       "      <th>9</th>\n",
       "      <td>Shipped - Rejected by Buyer</td>\n",
       "      <td>11</td>\n",
       "    </tr>\n",
       "    <tr>\n",
       "      <th>10</th>\n",
       "      <td>Shipping</td>\n",
       "      <td>8</td>\n",
       "    </tr>\n",
       "    <tr>\n",
       "      <th>11</th>\n",
       "      <td>Shipped - Lost in Transit</td>\n",
       "      <td>5</td>\n",
       "    </tr>\n",
       "    <tr>\n",
       "      <th>12</th>\n",
       "      <td>Shipped - Damaged</td>\n",
       "      <td>1</td>\n",
       "    </tr>\n",
       "  </tbody>\n",
       "</table>\n",
       "</div>"
      ],
      "text/plain": [
       "                           Status  count\n",
       "0                         Shipped  77815\n",
       "1    Shipped - Delivered to Buyer  28756\n",
       "2                       Cancelled  18334\n",
       "3    Shipped - Returned to Seller   1954\n",
       "4             Shipped - Picked Up    973\n",
       "5                         Pending    658\n",
       "6   Pending - Waiting for Pick Up    281\n",
       "7   Shipped - Returning to Seller    145\n",
       "8      Shipped - Out for Delivery     35\n",
       "9     Shipped - Rejected by Buyer     11\n",
       "10                       Shipping      8\n",
       "11      Shipped - Lost in Transit      5\n",
       "12              Shipped - Damaged      1"
      ]
     },
     "execution_count": 14,
     "metadata": {},
     "output_type": "execute_result"
    }
   ],
   "source": [
    "print (\"SALES STATUS OVERVIEW\")\n",
    "Sale_Status = Amazon_Sales[[\"Status\"]].value_counts().reset_index()\n",
    "Sale_Status"
   ]
  },
  {
   "cell_type": "markdown",
   "id": "108d87fc",
   "metadata": {},
   "source": [
    "Most orders were successfully shipped (77,815) and delivered (28,756), while cancellations (18,334) highlight potential issues needing attention. Rare problems like damages (1) and lost shipments (5) show minimal operational disruptions."
   ]
  },
  {
   "cell_type": "markdown",
   "id": "c79ac580",
   "metadata": {},
   "source": [
    "### SALES BY SELLER"
   ]
  },
  {
   "cell_type": "code",
   "execution_count": 33,
   "id": "2d671cc9",
   "metadata": {},
   "outputs": [],
   "source": [
    "Sale_Status.to_csv(\"Sales Status\")"
   ]
  },
  {
   "cell_type": "code",
   "execution_count": 15,
   "id": "31defd5c",
   "metadata": {},
   "outputs": [
    {
     "data": {
      "application/vnd.microsoft.datawrangler.viewer.v0+json": {
       "columns": [
        {
         "name": "index",
         "rawType": "int64",
         "type": "integer"
        },
        {
         "name": "Fulfilment",
         "rawType": "object",
         "type": "string"
        },
        {
         "name": "Amount",
         "rawType": "float64",
         "type": "float"
        }
       ],
       "ref": "0a40af59-b887-4aca-9768-8ccf5936953a",
       "rows": [
        [
         "0",
         "Merchant",
         "647.62"
        ],
        [
         "1",
         "Merchant",
         "406.0"
        ],
        [
         "2",
         "Amazon",
         "329.0"
        ],
        [
         "3",
         "Merchant",
         "753.33"
        ],
        [
         "4",
         "Amazon",
         "574.0"
        ],
        [
         "5",
         "Amazon",
         "824.0"
        ],
        [
         "6",
         "Amazon",
         "653.0"
        ],
        [
         "7",
         "Merchant",
         "399.0"
        ],
        [
         "8",
         "Amazon",
         null
        ],
        [
         "9",
         "Amazon",
         "363.0"
        ],
        [
         "10",
         "Amazon",
         "685.0"
        ],
        [
         "11",
         "Amazon",
         "364.0"
        ],
        [
         "12",
         "Merchant",
         "399.0"
        ],
        [
         "13",
         "Amazon",
         "657.0"
        ],
        [
         "14",
         "Merchant",
         "771.0"
        ],
        [
         "15",
         "Merchant",
         "544.0"
        ],
        [
         "16",
         "Amazon",
         "329.0"
        ],
        [
         "17",
         "Amazon",
         "399.0"
        ],
        [
         "18",
         "Merchant",
         "458.0"
        ],
        [
         "19",
         "Amazon",
         "886.0"
        ],
        [
         "20",
         "Amazon",
         "517.0"
        ],
        [
         "21",
         "Amazon",
         "666.0"
        ],
        [
         "22",
         "Amazon",
         "376.0"
        ],
        [
         "23",
         "Merchant",
         "570.48"
        ],
        [
         "24",
         "Amazon",
         "499.0"
        ],
        [
         "25",
         "Merchant",
         "582.0"
        ],
        [
         "26",
         "Merchant",
         "299.0"
        ],
        [
         "27",
         "Amazon",
         "459.0"
        ],
        [
         "28",
         "Amazon",
         "399.0"
        ],
        [
         "29",
         "Merchant",
         null
        ],
        [
         "30",
         "Amazon",
         "791.0"
        ],
        [
         "31",
         "Amazon",
         "499.0"
        ],
        [
         "32",
         "Merchant",
         "1233.0"
        ],
        [
         "33",
         "Merchant",
         "517.0"
        ],
        [
         "34",
         "Amazon",
         "376.0"
        ],
        [
         "35",
         "Merchant",
         "499.0"
        ],
        [
         "36",
         "Amazon",
         "666.0"
        ],
        [
         "37",
         "Amazon",
         "487.0"
        ],
        [
         "38",
         "Amazon",
         "368.0"
        ],
        [
         "39",
         "Amazon",
         "399.0"
        ],
        [
         "40",
         "Amazon",
         "699.0"
        ],
        [
         "41",
         "Amazon",
         "885.0"
        ],
        [
         "42",
         "Merchant",
         "424.0"
        ],
        [
         "43",
         "Amazon",
         "1126.0"
        ],
        [
         "44",
         "Amazon",
         "788.0"
        ],
        [
         "45",
         "Amazon",
         "759.0"
        ],
        [
         "46",
         "Amazon",
         "1146.0"
        ],
        [
         "47",
         "Amazon",
         "665.0"
        ],
        [
         "48",
         "Amazon",
         "429.0"
        ],
        [
         "49",
         "Merchant",
         "399.0"
        ]
       ],
       "shape": {
        "columns": 2,
        "rows": 128976
       }
      },
      "text/html": [
       "<div>\n",
       "<style scoped>\n",
       "    .dataframe tbody tr th:only-of-type {\n",
       "        vertical-align: middle;\n",
       "    }\n",
       "\n",
       "    .dataframe tbody tr th {\n",
       "        vertical-align: top;\n",
       "    }\n",
       "\n",
       "    .dataframe thead th {\n",
       "        text-align: right;\n",
       "    }\n",
       "</style>\n",
       "<table border=\"1\" class=\"dataframe\">\n",
       "  <thead>\n",
       "    <tr style=\"text-align: right;\">\n",
       "      <th></th>\n",
       "      <th>Fulfilment</th>\n",
       "      <th>Amount</th>\n",
       "    </tr>\n",
       "  </thead>\n",
       "  <tbody>\n",
       "    <tr>\n",
       "      <th>0</th>\n",
       "      <td>Merchant</td>\n",
       "      <td>647.62</td>\n",
       "    </tr>\n",
       "    <tr>\n",
       "      <th>1</th>\n",
       "      <td>Merchant</td>\n",
       "      <td>406.00</td>\n",
       "    </tr>\n",
       "    <tr>\n",
       "      <th>2</th>\n",
       "      <td>Amazon</td>\n",
       "      <td>329.00</td>\n",
       "    </tr>\n",
       "    <tr>\n",
       "      <th>3</th>\n",
       "      <td>Merchant</td>\n",
       "      <td>753.33</td>\n",
       "    </tr>\n",
       "    <tr>\n",
       "      <th>4</th>\n",
       "      <td>Amazon</td>\n",
       "      <td>574.00</td>\n",
       "    </tr>\n",
       "    <tr>\n",
       "      <th>...</th>\n",
       "      <td>...</td>\n",
       "      <td>...</td>\n",
       "    </tr>\n",
       "    <tr>\n",
       "      <th>128971</th>\n",
       "      <td>Amazon</td>\n",
       "      <td>517.00</td>\n",
       "    </tr>\n",
       "    <tr>\n",
       "      <th>128972</th>\n",
       "      <td>Amazon</td>\n",
       "      <td>999.00</td>\n",
       "    </tr>\n",
       "    <tr>\n",
       "      <th>128973</th>\n",
       "      <td>Amazon</td>\n",
       "      <td>690.00</td>\n",
       "    </tr>\n",
       "    <tr>\n",
       "      <th>128974</th>\n",
       "      <td>Amazon</td>\n",
       "      <td>1199.00</td>\n",
       "    </tr>\n",
       "    <tr>\n",
       "      <th>128975</th>\n",
       "      <td>Amazon</td>\n",
       "      <td>696.00</td>\n",
       "    </tr>\n",
       "  </tbody>\n",
       "</table>\n",
       "<p>128976 rows × 2 columns</p>\n",
       "</div>"
      ],
      "text/plain": [
       "       Fulfilment   Amount\n",
       "0        Merchant   647.62\n",
       "1        Merchant   406.00\n",
       "2          Amazon   329.00\n",
       "3        Merchant   753.33\n",
       "4          Amazon   574.00\n",
       "...           ...      ...\n",
       "128971     Amazon   517.00\n",
       "128972     Amazon   999.00\n",
       "128973     Amazon   690.00\n",
       "128974     Amazon  1199.00\n",
       "128975     Amazon   696.00\n",
       "\n",
       "[128976 rows x 2 columns]"
      ]
     },
     "execution_count": 15,
     "metadata": {},
     "output_type": "execute_result"
    }
   ],
   "source": [
    "seller = Amazon_Sales[[\"Fulfilment\", \"Amount\"]]\n",
    "seller"
   ]
  },
  {
   "cell_type": "code",
   "execution_count": 16,
   "id": "631f1517",
   "metadata": {},
   "outputs": [
    {
     "data": {
      "application/vnd.microsoft.datawrangler.viewer.v0+json": {
       "columns": [
        {
         "name": "index",
         "rawType": "int64",
         "type": "integer"
        },
        {
         "name": "Fulfilment",
         "rawType": "object",
         "type": "string"
        },
        {
         "name": "count",
         "rawType": "int64",
         "type": "integer"
        }
       ],
       "ref": "57a89a0d-31c6-4b48-ae55-ef159f2e2aa0",
       "rows": [
        [
         "0",
         "Amazon",
         "89713"
        ],
        [
         "1",
         "Merchant",
         "39263"
        ]
       ],
       "shape": {
        "columns": 2,
        "rows": 2
       }
      },
      "text/html": [
       "<div>\n",
       "<style scoped>\n",
       "    .dataframe tbody tr th:only-of-type {\n",
       "        vertical-align: middle;\n",
       "    }\n",
       "\n",
       "    .dataframe tbody tr th {\n",
       "        vertical-align: top;\n",
       "    }\n",
       "\n",
       "    .dataframe thead th {\n",
       "        text-align: right;\n",
       "    }\n",
       "</style>\n",
       "<table border=\"1\" class=\"dataframe\">\n",
       "  <thead>\n",
       "    <tr style=\"text-align: right;\">\n",
       "      <th></th>\n",
       "      <th>Fulfilment</th>\n",
       "      <th>count</th>\n",
       "    </tr>\n",
       "  </thead>\n",
       "  <tbody>\n",
       "    <tr>\n",
       "      <th>0</th>\n",
       "      <td>Amazon</td>\n",
       "      <td>89713</td>\n",
       "    </tr>\n",
       "    <tr>\n",
       "      <th>1</th>\n",
       "      <td>Merchant</td>\n",
       "      <td>39263</td>\n",
       "    </tr>\n",
       "  </tbody>\n",
       "</table>\n",
       "</div>"
      ],
      "text/plain": [
       "  Fulfilment  count\n",
       "0     Amazon  89713\n",
       "1   Merchant  39263"
      ]
     },
     "execution_count": 16,
     "metadata": {},
     "output_type": "execute_result"
    }
   ],
   "source": [
    "Sales_by = seller[\"Fulfilment\"].value_counts().reset_index()\n",
    "Sales_by"
   ]
  },
  {
   "cell_type": "markdown",
   "id": "b9406854",
   "metadata": {},
   "source": [
    "Amazon handled the majority of fulfillments (89,713), while merchants accounted for a smaller share (39,263), highlighting Amazon's dominant role in order processing."
   ]
  },
  {
   "cell_type": "code",
   "execution_count": 17,
   "id": "133ea3aa",
   "metadata": {},
   "outputs": [
    {
     "data": {
      "image/png": "[encoded data removed]",
      "text/plain": [
       "<Figure size 640x480 with 1 Axes>"
      ]
     },
     "metadata": {},
     "output_type": "display_data"
    }
   ],
   "source": [
    "sizes = Sales_by[\"count\"]\n",
    "label = Sales_by['Fulfilment']\n",
    "color = (\"Green\", \"Red\")\n",
    "\n",
    "plt.pie(sizes, labels = label, startangle= 50, colors = color, autopct= '%1.1f%%')\n",
    "plt.title(\"Product Sales by Seller\", fontfamily = \"Arial\", fontweight = \"bold\", fontsize = 15, color = \"blue\")\n",
    "\n",
    "plt.show()"
   ]
  },
  {
   "cell_type": "markdown",
   "id": "a9c27420",
   "metadata": {},
   "source": [
    "Amazon accounts for 69.6% of product sales, while merchants contribute 30.4%, reflecting Amazon's dominant market share."
   ]
  },
  {
   "cell_type": "code",
   "execution_count": 18,
   "id": "0e4d1323",
   "metadata": {},
   "outputs": [
    {
     "name": "stdout",
     "output_type": "stream",
     "text": [
      "TOTAL SALES BY SELLER\n"
     ]
    },
    {
     "data": {
      "application/vnd.microsoft.datawrangler.viewer.v0+json": {
       "columns": [
        {
         "name": "index",
         "rawType": "int64",
         "type": "integer"
        },
        {
         "name": "Fulfilment",
         "rawType": "object",
         "type": "string"
        },
        {
         "name": "Amount",
         "rawType": "float64",
         "type": "float"
        }
       ],
       "ref": "9213bdae-25ff-49a9-8dff-712c1ff266fb",
       "rows": [
        [
         "0",
         "Amazon",
         "54327540.0"
        ],
        [
         "1",
         "Merchant",
         "24262630.25"
        ]
       ],
       "shape": {
        "columns": 2,
        "rows": 2
       }
      },
      "text/html": [
       "<div>\n",
       "<style scoped>\n",
       "    .dataframe tbody tr th:only-of-type {\n",
       "        vertical-align: middle;\n",
       "    }\n",
       "\n",
       "    .dataframe tbody tr th {\n",
       "        vertical-align: top;\n",
       "    }\n",
       "\n",
       "    .dataframe thead th {\n",
       "        text-align: right;\n",
       "    }\n",
       "</style>\n",
       "<table border=\"1\" class=\"dataframe\">\n",
       "  <thead>\n",
       "    <tr style=\"text-align: right;\">\n",
       "      <th></th>\n",
       "      <th>Fulfilment</th>\n",
       "      <th>Amount</th>\n",
       "    </tr>\n",
       "  </thead>\n",
       "  <tbody>\n",
       "    <tr>\n",
       "      <th>0</th>\n",
       "      <td>Amazon</td>\n",
       "      <td>54327540.00</td>\n",
       "    </tr>\n",
       "    <tr>\n",
       "      <th>1</th>\n",
       "      <td>Merchant</td>\n",
       "      <td>24262630.25</td>\n",
       "    </tr>\n",
       "  </tbody>\n",
       "</table>\n",
       "</div>"
      ],
      "text/plain": [
       "  Fulfilment       Amount\n",
       "0     Amazon  54327540.00\n",
       "1   Merchant  24262630.25"
      ]
     },
     "execution_count": 18,
     "metadata": {},
     "output_type": "execute_result"
    }
   ],
   "source": [
    "print (\"TOTAL SALES BY SELLER\")\n",
    "sales_Record = seller.groupby([\"Fulfilment\"])[[\"Amount\"]].sum().reset_index()\n",
    "sales_Record\n"
   ]
  },
  {
   "cell_type": "markdown",
   "id": "cfbd4a81",
   "metadata": {},
   "source": [
    "Amazon generated the majority of sales revenue ($54.3M), while merchants contributed $24.3M, emphasizing Amazon's financial dominance."
   ]
  },
  {
   "cell_type": "code",
   "execution_count": 34,
   "id": "0f9054f5",
   "metadata": {},
   "outputs": [],
   "source": [
    "sales_Record.to_csv(\"Seller Sales\")"
   ]
  },
  {
   "cell_type": "code",
   "execution_count": 19,
   "id": "b6e28dc1",
   "metadata": {},
   "outputs": [
    {
     "data": {
      "image/png": "[encoded data removed]",
      "text/plain": [
       "<Figure size 600x500 with 1 Axes>"
      ]
     },
     "metadata": {},
     "output_type": "display_data"
    }
   ],
   "source": [
    "x = sales_Record['Fulfilment']\n",
    "y = sales_Record[\"Amount\"]\n",
    "\n",
    "plt.figure(figsize = (6, 5))\n",
    "\n",
    "plt.barh(x, y , color=\"orange\", edgecolor = \"black\")\n",
    "\n",
    "\n",
    "plt.xlabel(\"Amount$\")\n",
    "plt.ylabel(\"Seller\")\n",
    "plt.title(\"Total Sales by Seller\", fontfamily = \"Arial\", fontsize = 15, fontweight = \"bold\", color = \"blue\")\n",
    "\n",
    "plt.tight_layout()\n",
    "\n",
    "plt.show()"
   ]
  },
  {
   "cell_type": "markdown",
   "id": "f3fc7c61",
   "metadata": {},
   "source": [
    "The bar chart illustrates **total sales by seller**, with Amazon significantly outperforming merchants in revenue generation:  \n",
    "\n",
    "- **Amazon** contributed approximately **$54.3 million**, highlighting its dominant market share and strong customer trust.  \n",
    "- **Merchants** generated **$24.3 million**, accounting for a smaller yet substantial portion of sales, emphasizing their role as supplementary sellers.  \n",
    "\n",
    "Amazon’s sales are over **twice** those of merchants, indicating its efficiency in fulfillment and broader customer reach. This dominance may stem from Amazon's established infrastructure, streamlined logistics, and marketing strength.  \n",
    "\n",
    "Key insight: Merchants still play an essential role in diversifying the marketplace and can be further empowered to increase their contributions."
   ]
  },
  {
   "cell_type": "markdown",
   "id": "1ff15ebf",
   "metadata": {},
   "source": [
    "### SALES CHANNEL"
   ]
  },
  {
   "cell_type": "code",
   "execution_count": 20,
   "id": "37974735",
   "metadata": {},
   "outputs": [
    {
     "data": {
      "application/vnd.microsoft.datawrangler.viewer.v0+json": {
       "columns": [
        {
         "name": "index",
         "rawType": "int64",
         "type": "integer"
        },
        {
         "name": "Sales Channel",
         "rawType": "object",
         "type": "string"
        },
        {
         "name": "Amount",
         "rawType": "float64",
         "type": "float"
        }
       ],
       "ref": "af362adb-4d7f-46c1-9489-505170964f4c",
       "rows": [
        [
         "0",
         "Amazon.in",
         "647.62"
        ],
        [
         "1",
         "Amazon.in",
         "406.0"
        ],
        [
         "2",
         "Amazon.in",
         "329.0"
        ],
        [
         "3",
         "Amazon.in",
         "753.33"
        ],
        [
         "4",
         "Amazon.in",
         "574.0"
        ],
        [
         "5",
         "Amazon.in",
         "824.0"
        ],
        [
         "6",
         "Amazon.in",
         "653.0"
        ],
        [
         "7",
         "Amazon.in",
         "399.0"
        ],
        [
         "8",
         "Amazon.in",
         null
        ],
        [
         "9",
         "Amazon.in",
         "363.0"
        ],
        [
         "10",
         "Amazon.in",
         "685.0"
        ],
        [
         "11",
         "Amazon.in",
         "364.0"
        ],
        [
         "12",
         "Amazon.in",
         "399.0"
        ],
        [
         "13",
         "Amazon.in",
         "657.0"
        ],
        [
         "14",
         "Amazon.in",
         "771.0"
        ],
        [
         "15",
         "Amazon.in",
         "544.0"
        ],
        [
         "16",
         "Amazon.in",
         "329.0"
        ],
        [
         "17",
         "Amazon.in",
         "399.0"
        ],
        [
         "18",
         "Amazon.in",
         "458.0"
        ],
        [
         "19",
         "Amazon.in",
         "886.0"
        ],
        [
         "20",
         "Amazon.in",
         "517.0"
        ],
        [
         "21",
         "Amazon.in",
         "666.0"
        ],
        [
         "22",
         "Amazon.in",
         "376.0"
        ],
        [
         "23",
         "Amazon.in",
         "570.48"
        ],
        [
         "24",
         "Amazon.in",
         "499.0"
        ],
        [
         "25",
         "Amazon.in",
         "582.0"
        ],
        [
         "26",
         "Amazon.in",
         "299.0"
        ],
        [
         "27",
         "Amazon.in",
         "459.0"
        ],
        [
         "28",
         "Amazon.in",
         "399.0"
        ],
        [
         "29",
         "Amazon.in",
         null
        ],
        [
         "30",
         "Amazon.in",
         "791.0"
        ],
        [
         "31",
         "Amazon.in",
         "499.0"
        ],
        [
         "32",
         "Amazon.in",
         "1233.0"
        ],
        [
         "33",
         "Amazon.in",
         "517.0"
        ],
        [
         "34",
         "Amazon.in",
         "376.0"
        ],
        [
         "35",
         "Amazon.in",
         "499.0"
        ],
        [
         "36",
         "Amazon.in",
         "666.0"
        ],
        [
         "37",
         "Amazon.in",
         "487.0"
        ],
        [
         "38",
         "Amazon.in",
         "368.0"
        ],
        [
         "39",
         "Amazon.in",
         "399.0"
        ],
        [
         "40",
         "Amazon.in",
         "699.0"
        ],
        [
         "41",
         "Amazon.in",
         "885.0"
        ],
        [
         "42",
         "Amazon.in",
         "424.0"
        ],
        [
         "43",
         "Amazon.in",
         "1126.0"
        ],
        [
         "44",
         "Amazon.in",
         "788.0"
        ],
        [
         "45",
         "Amazon.in",
         "759.0"
        ],
        [
         "46",
         "Amazon.in",
         "1146.0"
        ],
        [
         "47",
         "Amazon.in",
         "665.0"
        ],
        [
         "48",
         "Amazon.in",
         "429.0"
        ],
        [
         "49",
         "Amazon.in",
         "399.0"
        ]
       ],
       "shape": {
        "columns": 2,
        "rows": 128976
       }
      },
      "text/html": [
       "<div>\n",
       "<style scoped>\n",
       "    .dataframe tbody tr th:only-of-type {\n",
       "        vertical-align: middle;\n",
       "    }\n",
       "\n",
       "    .dataframe tbody tr th {\n",
       "        vertical-align: top;\n",
       "    }\n",
       "\n",
       "    .dataframe thead th {\n",
       "        text-align: right;\n",
       "    }\n",
       "</style>\n",
       "<table border=\"1\" class=\"dataframe\">\n",
       "  <thead>\n",
       "    <tr style=\"text-align: right;\">\n",
       "      <th></th>\n",
       "      <th>Sales Channel</th>\n",
       "      <th>Amount</th>\n",
       "    </tr>\n",
       "  </thead>\n",
       "  <tbody>\n",
       "    <tr>\n",
       "      <th>0</th>\n",
       "      <td>Amazon.in</td>\n",
       "      <td>647.62</td>\n",
       "    </tr>\n",
       "    <tr>\n",
       "      <th>1</th>\n",
       "      <td>Amazon.in</td>\n",
       "      <td>406.00</td>\n",
       "    </tr>\n",
       "    <tr>\n",
       "      <th>2</th>\n",
       "      <td>Amazon.in</td>\n",
       "      <td>329.00</td>\n",
       "    </tr>\n",
       "    <tr>\n",
       "      <th>3</th>\n",
       "      <td>Amazon.in</td>\n",
       "      <td>753.33</td>\n",
       "    </tr>\n",
       "    <tr>\n",
       "      <th>4</th>\n",
       "      <td>Amazon.in</td>\n",
       "      <td>574.00</td>\n",
       "    </tr>\n",
       "    <tr>\n",
       "      <th>...</th>\n",
       "      <td>...</td>\n",
       "      <td>...</td>\n",
       "    </tr>\n",
       "    <tr>\n",
       "      <th>128971</th>\n",
       "      <td>Amazon.in</td>\n",
       "      <td>517.00</td>\n",
       "    </tr>\n",
       "    <tr>\n",
       "      <th>128972</th>\n",
       "      <td>Amazon.in</td>\n",
       "      <td>999.00</td>\n",
       "    </tr>\n",
       "    <tr>\n",
       "      <th>128973</th>\n",
       "      <td>Amazon.in</td>\n",
       "      <td>690.00</td>\n",
       "    </tr>\n",
       "    <tr>\n",
       "      <th>128974</th>\n",
       "      <td>Amazon.in</td>\n",
       "      <td>1199.00</td>\n",
       "    </tr>\n",
       "    <tr>\n",
       "      <th>128975</th>\n",
       "      <td>Amazon.in</td>\n",
       "      <td>696.00</td>\n",
       "    </tr>\n",
       "  </tbody>\n",
       "</table>\n",
       "<p>128976 rows × 2 columns</p>\n",
       "</div>"
      ],
      "text/plain": [
       "       Sales Channel   Amount\n",
       "0          Amazon.in   647.62\n",
       "1          Amazon.in   406.00\n",
       "2          Amazon.in   329.00\n",
       "3          Amazon.in   753.33\n",
       "4          Amazon.in   574.00\n",
       "...              ...      ...\n",
       "128971     Amazon.in   517.00\n",
       "128972     Amazon.in   999.00\n",
       "128973     Amazon.in   690.00\n",
       "128974     Amazon.in  1199.00\n",
       "128975     Amazon.in   696.00\n",
       "\n",
       "[128976 rows x 2 columns]"
      ]
     },
     "execution_count": 20,
     "metadata": {},
     "output_type": "execute_result"
    }
   ],
   "source": [
    "\n",
    "SalesChannel = Amazon_Sales[[\"Sales Channel\", \"Amount\"]]\n",
    "SalesChannel"
   ]
  },
  {
   "cell_type": "code",
   "execution_count": 21,
   "id": "a567851b",
   "metadata": {},
   "outputs": [
    {
     "data": {
      "application/vnd.microsoft.datawrangler.viewer.v0+json": {
       "columns": [
        {
         "name": "Sales Channel",
         "rawType": "object",
         "type": "string"
        },
        {
         "name": "count",
         "rawType": "int64",
         "type": "integer"
        }
       ],
       "ref": "108edb03-bdee-4ff6-ae74-93f7d8931bd4",
       "rows": [
        [
         "Amazon.in",
         "128852"
        ],
        [
         "Non-Amazon",
         "124"
        ]
       ],
       "shape": {
        "columns": 1,
        "rows": 2
       }
      },
      "text/plain": [
       "Sales Channel\n",
       "Amazon.in     128852\n",
       "Non-Amazon       124\n",
       "Name: count, dtype: int64"
      ]
     },
     "execution_count": 21,
     "metadata": {},
     "output_type": "execute_result"
    }
   ],
   "source": [
    "SalesChannel['Sales Channel'].value_counts()"
   ]
  },
  {
   "cell_type": "markdown",
   "id": "c978e9cc",
   "metadata": {},
   "source": [
    "The data reveals a significant disparity in order counts between Amazon.in and Non-Amazon platforms:  \n",
    "\n",
    "- **Amazon.in** processed **128,852 orders**, showcasing its dominance in the e-commerce space with a vast customer base and efficient fulfillment capabilities.  \n",
    "- **Non-Amazon** platforms handled only **124 orders**, reflecting a minimal market share, which may indicate limited reach, lower visibility, or fewer resources compared to Amazon.  \n",
    "\n",
    "This stark difference highlights Amazon.in's strong market positioning and customer trust, while Non-Amazon platforms may need to enhance their marketing strategies, logistics, or product offerings to compete effectively."
   ]
  },
  {
   "cell_type": "markdown",
   "id": "6992ff63",
   "metadata": {},
   "source": [
    "### SHIPMENT"
   ]
  },
  {
   "cell_type": "code",
   "execution_count": 22,
   "id": "71fb373c",
   "metadata": {},
   "outputs": [
    {
     "data": {
      "application/vnd.microsoft.datawrangler.viewer.v0+json": {
       "columns": [
        {
         "name": "index",
         "rawType": "int64",
         "type": "integer"
        },
        {
         "name": "ship-service-level",
         "rawType": "object",
         "type": "string"
        },
        {
         "name": "Category",
         "rawType": "object",
         "type": "string"
        },
        {
         "name": "Amount",
         "rawType": "float64",
         "type": "float"
        }
       ],
       "ref": "da123c2c-c60d-4d33-ae49-b26929e0aa8d",
       "rows": [
        [
         "0",
         "Standard",
         "T-shirt",
         "647.62"
        ],
        [
         "1",
         "Standard",
         "Shirt",
         "406.0"
        ],
        [
         "2",
         "Expedited",
         "Shirt",
         "329.0"
        ],
        [
         "3",
         "Standard",
         "Blazzer",
         "753.33"
        ],
        [
         "4",
         "Expedited",
         "Trousers",
         "574.0"
        ],
        [
         "5",
         "Expedited",
         "T-shirt",
         "824.0"
        ],
        [
         "6",
         "Expedited",
         "T-shirt",
         "653.0"
        ],
        [
         "7",
         "Standard",
         "Shirt",
         "399.0"
        ],
        [
         "8",
         "Expedited",
         "T-shirt",
         null
        ],
        [
         "9",
         "Expedited",
         "Shirt",
         "363.0"
        ],
        [
         "10",
         "Expedited",
         "Shirt",
         "685.0"
        ],
        [
         "11",
         "Expedited",
         "Shirt",
         "364.0"
        ],
        [
         "12",
         "Standard",
         "Shirt",
         "399.0"
        ],
        [
         "13",
         "Expedited",
         "T-shirt",
         "657.0"
        ],
        [
         "14",
         "Standard",
         "T-shirt",
         "771.0"
        ],
        [
         "15",
         "Standard",
         "Shirt",
         "544.0"
        ],
        [
         "16",
         "Expedited",
         "Shirt",
         "329.0"
        ],
        [
         "17",
         "Expedited",
         "Shirt",
         "399.0"
        ],
        [
         "18",
         "Standard",
         "Shirt",
         "458.0"
        ],
        [
         "19",
         "Expedited",
         "T-shirt",
         "886.0"
        ],
        [
         "20",
         "Expedited",
         "Shirt",
         "517.0"
        ],
        [
         "21",
         "Expedited",
         "T-shirt",
         "666.0"
        ],
        [
         "22",
         "Expedited",
         "Shirt",
         "376.0"
        ],
        [
         "23",
         "Standard",
         "T-shirt",
         "570.48"
        ],
        [
         "24",
         "Expedited",
         "Shirt",
         "499.0"
        ],
        [
         "25",
         "Standard",
         "T-shirt",
         "582.0"
        ],
        [
         "26",
         "Standard",
         "Shirt",
         "299.0"
        ],
        [
         "27",
         "Expedited",
         "Shirt",
         "459.0"
        ],
        [
         "28",
         "Expedited",
         "Shirt",
         "399.0"
        ],
        [
         "29",
         "Standard",
         "Shirt",
         null
        ],
        [
         "30",
         "Expedited",
         "Blazzer",
         "791.0"
        ],
        [
         "31",
         "Expedited",
         "Shirt",
         "499.0"
        ],
        [
         "32",
         "Standard",
         "T-shirt",
         "1233.0"
        ],
        [
         "33",
         "Standard",
         "Shirt",
         "517.0"
        ],
        [
         "34",
         "Expedited",
         "Shirt",
         "376.0"
        ],
        [
         "35",
         "Standard",
         "Shirt",
         "499.0"
        ],
        [
         "36",
         "Expedited",
         "T-shirt",
         "666.0"
        ],
        [
         "37",
         "Expedited",
         "Shirt",
         "487.0"
        ],
        [
         "38",
         "Expedited",
         "Shirt",
         "368.0"
        ],
        [
         "39",
         "Expedited",
         "Shirt",
         "399.0"
        ],
        [
         "40",
         "Expedited",
         "Perfume",
         "699.0"
        ],
        [
         "41",
         "Expedited",
         "Blazzer",
         "885.0"
        ],
        [
         "42",
         "Standard",
         "Shirt",
         "424.0"
        ],
        [
         "43",
         "Expedited",
         "T-shirt",
         "1126.0"
        ],
        [
         "44",
         "Expedited",
         "T-shirt",
         "788.0"
        ],
        [
         "45",
         "Expedited",
         "T-shirt",
         "759.0"
        ],
        [
         "46",
         "Expedited",
         "T-shirt",
         "1146.0"
        ],
        [
         "47",
         "Expedited",
         "Trousers",
         "665.0"
        ],
        [
         "48",
         "Expedited",
         "Shirt",
         "429.0"
        ],
        [
         "49",
         "Standard",
         "Shirt",
         "399.0"
        ]
       ],
       "shape": {
        "columns": 3,
        "rows": 128976
       }
      },
      "text/html": [
       "<div>\n",
       "<style scoped>\n",
       "    .dataframe tbody tr th:only-of-type {\n",
       "        vertical-align: middle;\n",
       "    }\n",
       "\n",
       "    .dataframe tbody tr th {\n",
       "        vertical-align: top;\n",
       "    }\n",
       "\n",
       "    .dataframe thead th {\n",
       "        text-align: right;\n",
       "    }\n",
       "</style>\n",
       "<table border=\"1\" class=\"dataframe\">\n",
       "  <thead>\n",
       "    <tr style=\"text-align: right;\">\n",
       "      <th></th>\n",
       "      <th>ship-service-level</th>\n",
       "      <th>Category</th>\n",
       "      <th>Amount</th>\n",
       "    </tr>\n",
       "  </thead>\n",
       "  <tbody>\n",
       "    <tr>\n",
       "      <th>0</th>\n",
       "      <td>Standard</td>\n",
       "      <td>T-shirt</td>\n",
       "      <td>647.62</td>\n",
       "    </tr>\n",
       "    <tr>\n",
       "      <th>1</th>\n",
       "      <td>Standard</td>\n",
       "      <td>Shirt</td>\n",
       "      <td>406.00</td>\n",
       "    </tr>\n",
       "    <tr>\n",
       "      <th>2</th>\n",
       "      <td>Expedited</td>\n",
       "      <td>Shirt</td>\n",
       "      <td>329.00</td>\n",
       "    </tr>\n",
       "    <tr>\n",
       "      <th>3</th>\n",
       "      <td>Standard</td>\n",
       "      <td>Blazzer</td>\n",
       "      <td>753.33</td>\n",
       "    </tr>\n",
       "    <tr>\n",
       "      <th>4</th>\n",
       "      <td>Expedited</td>\n",
       "      <td>Trousers</td>\n",
       "      <td>574.00</td>\n",
       "    </tr>\n",
       "    <tr>\n",
       "      <th>...</th>\n",
       "      <td>...</td>\n",
       "      <td>...</td>\n",
       "      <td>...</td>\n",
       "    </tr>\n",
       "    <tr>\n",
       "      <th>128971</th>\n",
       "      <td>Expedited</td>\n",
       "      <td>Shirt</td>\n",
       "      <td>517.00</td>\n",
       "    </tr>\n",
       "    <tr>\n",
       "      <th>128972</th>\n",
       "      <td>Expedited</td>\n",
       "      <td>T-shirt</td>\n",
       "      <td>999.00</td>\n",
       "    </tr>\n",
       "    <tr>\n",
       "      <th>128973</th>\n",
       "      <td>Expedited</td>\n",
       "      <td>Blazzer</td>\n",
       "      <td>690.00</td>\n",
       "    </tr>\n",
       "    <tr>\n",
       "      <th>128974</th>\n",
       "      <td>Expedited</td>\n",
       "      <td>T-shirt</td>\n",
       "      <td>1199.00</td>\n",
       "    </tr>\n",
       "    <tr>\n",
       "      <th>128975</th>\n",
       "      <td>Expedited</td>\n",
       "      <td>T-shirt</td>\n",
       "      <td>696.00</td>\n",
       "    </tr>\n",
       "  </tbody>\n",
       "</table>\n",
       "<p>128976 rows × 3 columns</p>\n",
       "</div>"
      ],
      "text/plain": [
       "       ship-service-level  Category   Amount\n",
       "0                Standard   T-shirt   647.62\n",
       "1                Standard     Shirt   406.00\n",
       "2               Expedited     Shirt   329.00\n",
       "3                Standard   Blazzer   753.33\n",
       "4               Expedited  Trousers   574.00\n",
       "...                   ...       ...      ...\n",
       "128971          Expedited     Shirt   517.00\n",
       "128972          Expedited   T-shirt   999.00\n",
       "128973          Expedited   Blazzer   690.00\n",
       "128974          Expedited   T-shirt  1199.00\n",
       "128975          Expedited   T-shirt   696.00\n",
       "\n",
       "[128976 rows x 3 columns]"
      ]
     },
     "execution_count": 22,
     "metadata": {},
     "output_type": "execute_result"
    }
   ],
   "source": [
    "shipment = Amazon_Sales[[\"ship-service-level\", \"Category\", \"Amount\"]]\n",
    "shipment"
   ]
  },
  {
   "cell_type": "code",
   "execution_count": 35,
   "id": "ba1f9db7",
   "metadata": {},
   "outputs": [],
   "source": [
    "shipment.to_csv(\"Shipemnt Category\")"
   ]
  },
  {
   "cell_type": "code",
   "execution_count": 23,
   "id": "1a857476",
   "metadata": {},
   "outputs": [
    {
     "name": "stdout",
     "output_type": "stream",
     "text": [
      "ship-service-level\n",
      "Expedited    88630\n",
      "Standard     40346\n",
      "Name: count, dtype: int64\n",
      "  \n",
      "Category\n",
      "T-shirt     50292\n",
      "Shirt       49877\n",
      "Blazzer     15500\n",
      "Trousers    10616\n",
      "Perfume      1157\n",
      "Wallet        926\n",
      "Socks         440\n",
      "Shoes         165\n",
      "Watch           3\n",
      "Name: count, dtype: int64\n"
     ]
    }
   ],
   "source": [
    "print (shipment['ship-service-level'].value_counts())\n",
    "\n",
    "print (\"  \")\n",
    "\n",
    "print (shipment['Category'].value_counts())"
   ]
  },
  {
   "cell_type": "markdown",
   "id": "ca512a4f",
   "metadata": {},
   "source": [
    "**Shipping Service Levels**  \n",
    "- **Expedited Service**: 88,630 shipments were expedited, indicating a preference for faster delivery among customers, likely for time-sensitive purchases.  \n",
    "- **Standard Service**: 40,346 shipments opted for standard delivery, highlighting a cost-effective choice for less urgent orders.  \n",
    "\n",
    "Expedited services dominate, suggesting a demand for speedy logistics.  \n",
    "\n",
    "---\n",
    "\n",
    "### Product Categories  \n",
    "- **Top Categories**:  \n",
    "  - **T-shirts** (50,292) and **Shirts** (49,877) account for the majority of sales, reflecting high demand for apparel.  \n",
    "  - **Blazers** (15,500) and **Trousers** (10,616) further underline the prominence of clothing items.  \n",
    "\n",
    "- **Niche Categories**:  \n",
    "  - **Perfume** (1,157) and **Wallets** (926) represent moderate interest in accessories.  \n",
    "  - **Socks** (440), **Shoes** (165), and **Watches** (3) exhibit limited sales, potentially indicating less focus or demand for these products.  \n",
    "\n",
    "This breakdown highlights a strong focus on apparel, with opportunities to grow sales in accessory and footwear categories."
   ]
  },
  {
   "cell_type": "code",
   "execution_count": 24,
   "id": "e33686a3",
   "metadata": {},
   "outputs": [
    {
     "data": {
      "application/vnd.microsoft.datawrangler.viewer.v0+json": {
       "columns": [
        {
         "name": "Category",
         "rawType": "object",
         "type": "string"
        },
        {
         "name": "Expedited",
         "rawType": "float64",
         "type": "float"
        },
        {
         "name": "Standard",
         "rawType": "float64",
         "type": "float"
        }
       ],
       "ref": "5749392b-17d2-452b-bf9a-f1b09453a075",
       "rows": [
        [
         "Blazzer",
         "6269317.0",
         "4945787.12"
        ],
        [
         "Perfume",
         "581747.0",
         "207672.66"
        ],
        [
         "Shirt",
         "15162659.0",
         "6135111.08"
        ],
        [
         "Shoes",
         "99403.0",
         "25349.760000000002"
        ],
        [
         "Socks",
         "86519.0",
         "64238.5"
        ],
        [
         "T-shirt",
         "27620183.0",
         "11586573.65"
        ],
        [
         "Trousers",
         "4129050.0",
         "1217236.3"
        ],
        [
         "Wallet",
         "341361.0",
         "117047.18"
        ],
        [
         "Watch",
         "915.0",
         null
        ]
       ],
       "shape": {
        "columns": 2,
        "rows": 9
       }
      },
      "text/html": [
       "<div>\n",
       "<style scoped>\n",
       "    .dataframe tbody tr th:only-of-type {\n",
       "        vertical-align: middle;\n",
       "    }\n",
       "\n",
       "    .dataframe tbody tr th {\n",
       "        vertical-align: top;\n",
       "    }\n",
       "\n",
       "    .dataframe thead th {\n",
       "        text-align: right;\n",
       "    }\n",
       "</style>\n",
       "<table border=\"1\" class=\"dataframe\">\n",
       "  <thead>\n",
       "    <tr style=\"text-align: right;\">\n",
       "      <th>ship-service-level</th>\n",
       "      <th>Expedited</th>\n",
       "      <th>Standard</th>\n",
       "    </tr>\n",
       "    <tr>\n",
       "      <th>Category</th>\n",
       "      <th></th>\n",
       "      <th></th>\n",
       "    </tr>\n",
       "  </thead>\n",
       "  <tbody>\n",
       "    <tr>\n",
       "      <th>Blazzer</th>\n",
       "      <td>6269317.0</td>\n",
       "      <td>4945787.12</td>\n",
       "    </tr>\n",
       "    <tr>\n",
       "      <th>Perfume</th>\n",
       "      <td>581747.0</td>\n",
       "      <td>207672.66</td>\n",
       "    </tr>\n",
       "    <tr>\n",
       "      <th>Shirt</th>\n",
       "      <td>15162659.0</td>\n",
       "      <td>6135111.08</td>\n",
       "    </tr>\n",
       "    <tr>\n",
       "      <th>Shoes</th>\n",
       "      <td>99403.0</td>\n",
       "      <td>25349.76</td>\n",
       "    </tr>\n",
       "    <tr>\n",
       "      <th>Socks</th>\n",
       "      <td>86519.0</td>\n",
       "      <td>64238.50</td>\n",
       "    </tr>\n",
       "    <tr>\n",
       "      <th>T-shirt</th>\n",
       "      <td>27620183.0</td>\n",
       "      <td>11586573.65</td>\n",
       "    </tr>\n",
       "    <tr>\n",
       "      <th>Trousers</th>\n",
       "      <td>4129050.0</td>\n",
       "      <td>1217236.30</td>\n",
       "    </tr>\n",
       "    <tr>\n",
       "      <th>Wallet</th>\n",
       "      <td>341361.0</td>\n",
       "      <td>117047.18</td>\n",
       "    </tr>\n",
       "    <tr>\n",
       "      <th>Watch</th>\n",
       "      <td>915.0</td>\n",
       "      <td>NaN</td>\n",
       "    </tr>\n",
       "  </tbody>\n",
       "</table>\n",
       "</div>"
      ],
      "text/plain": [
       "ship-service-level   Expedited     Standard\n",
       "Category                                   \n",
       "Blazzer              6269317.0   4945787.12\n",
       "Perfume               581747.0    207672.66\n",
       "Shirt               15162659.0   6135111.08\n",
       "Shoes                  99403.0     25349.76\n",
       "Socks                  86519.0     64238.50\n",
       "T-shirt             27620183.0  11586573.65\n",
       "Trousers             4129050.0   1217236.30\n",
       "Wallet                341361.0    117047.18\n",
       "Watch                    915.0          NaN"
      ]
     },
     "execution_count": 24,
     "metadata": {},
     "output_type": "execute_result"
    }
   ],
   "source": [
    "Pivot = shipment.pivot_table(index= \"Category\", columns = \"ship-service-level\", values = \"Amount\", aggfunc=\"sum\")\n",
    "Pivot"
   ]
  },
  {
   "cell_type": "code",
   "execution_count": 37,
   "id": "2efce78f",
   "metadata": {},
   "outputs": [],
   "source": [
    "Pivot.to_csv(\"product Expedited and Standard\")"
   ]
  },
  {
   "cell_type": "markdown",
   "id": "22e4d5e5",
   "metadata": {},
   "source": [
    "**Key Insights**\n",
    "\n",
    "**Expedited vs. Standard Revenue:** Expedited shipping consistently outperforms standard shipping across all categories, emphasizing customer preference for faster delivery, especially for high-demand items like T-shirts and Shirts.\n",
    "Top Categories: T-shirts and Shirts dominate sales in both shipping methods, highlighting their importance as key revenue drivers.\n",
    "Low Revenue Categories: Shoes, Socks, and Watches contribute minimal revenue, presenting an opportunity to reassess product strategy or promotional efforts in these segments.\n",
    "Luxury Items: Perfumes and Wallets perform moderately, suggesting potential growth through targeted marketing strategies.\n",
    "This data reinforces the critical role of expedited shipping for maximizing revenue and underscores the dominance of apparel in overall sales."
   ]
  },
  {
   "cell_type": "code",
   "execution_count": 25,
   "id": "ec59c5b7",
   "metadata": {},
   "outputs": [
    {
     "data": {
      "application/vnd.microsoft.datawrangler.viewer.v0+json": {
       "columns": [
        {
         "name": "Category",
         "rawType": "object",
         "type": "string"
        },
        {
         "name": "Expedited",
         "rawType": "float64",
         "type": "float"
        }
       ],
       "ref": "df0f8a15-1cc0-4b96-9869-1ee9a7331a36",
       "rows": [
        [
         "Blazzer",
         "6269317.0"
        ],
        [
         "Perfume",
         "581747.0"
        ],
        [
         "Shirt",
         "15162659.0"
        ],
        [
         "Shoes",
         "99403.0"
        ],
        [
         "Socks",
         "86519.0"
        ],
        [
         "T-shirt",
         "27620183.0"
        ],
        [
         "Trousers",
         "4129050.0"
        ],
        [
         "Wallet",
         "341361.0"
        ],
        [
         "Watch",
         "915.0"
        ]
       ],
       "shape": {
        "columns": 1,
        "rows": 9
       }
      },
      "text/plain": [
       "Category\n",
       "Blazzer      6269317.0\n",
       "Perfume       581747.0\n",
       "Shirt       15162659.0\n",
       "Shoes          99403.0\n",
       "Socks          86519.0\n",
       "T-shirt     27620183.0\n",
       "Trousers     4129050.0\n",
       "Wallet        341361.0\n",
       "Watch            915.0\n",
       "Name: Expedited, dtype: float64"
      ]
     },
     "execution_count": 25,
     "metadata": {},
     "output_type": "execute_result"
    }
   ],
   "source": [
    "x1 = Pivot[\"Expedited\"]\n",
    "x1"
   ]
  },
  {
   "cell_type": "code",
   "execution_count": 26,
   "id": "b3afcd5f",
   "metadata": {},
   "outputs": [
    {
     "data": {
      "image/png": "[encoded data removed]",
      "text/plain": [
       "<Figure size 900x600 with 1 Axes>"
      ]
     },
     "metadata": {},
     "output_type": "display_data"
    }
   ],
   "source": [
    "x1 = Pivot[\"Expedited\"]\n",
    "x2 = Pivot[\"Standard\"]\n",
    "fig, ax = plt.subplots(figsize = (9,6))\n",
    "bar_width = 0.6\n",
    "\n",
    "r1 = range(len(Pivot))\n",
    "r2 = [x + bar_width for x in r1]\n",
    "      \n",
    "b1 = ax.bar(r1, x1, width = bar_width, color = \"red\", edgecolor = \"black\", label = \"Expedited\")\n",
    "b2 = ax.bar(r2, x2, width = bar_width, color = \"black\", edgecolor = \"red\", label = \"Standard\")\n",
    "\n",
    "ax.set_xticks([r + bar_width /2 for r in r1])\n",
    "ax.set_xticklabels(Pivot.index)\n",
    "\n",
    "plt.xlabel(\"Category\", fontfamily = \"Arial\", color = \"Black\", fontsize = 12, fontweight = \"bold\")\n",
    "plt.ylabel(\"Amount\",  fontfamily = \"Arial\", color = \"Black\", fontsize = 12, fontweight = \"bold\")\n",
    "plt.title (\"shipment service by catergory with the amount sales\",  fontfamily = \"Arial\", color = \"Blue\", fontsize = 15, fontweight = \"bold\")\n",
    "\n",
    "ax.legend()\n",
    "plt.tight_layout()\n",
    "\n",
    "plt.show()"
   ]
  },
  {
   "cell_type": "markdown",
   "id": "9761100e",
   "metadata": {},
   "source": [
    "**Insights:**\n",
    "\n",
    "The data underscores the value of expedited shipping for maximizing revenue in high-demand categories like T-shirts and Shirts.\n",
    "Low-performing categories such as Shoes, Socks, and Watches may require targeted strategies, including promotions or discounts, to boost their appeal.\n",
    "Standard shipping remains a secondary choice for most customers, highlighting the importance of maintaining robust expedited shipping options.\n",
    "This visualization emphasizes the critical role of shipping speed in driving sales, particularly for top-performing categories."
   ]
  },
  {
   "cell_type": "code",
   "execution_count": 27,
   "id": "f0f6c567",
   "metadata": {},
   "outputs": [
    {
     "data": {
      "application/vnd.microsoft.datawrangler.viewer.v0+json": {
       "columns": [
        {
         "name": "index",
         "rawType": "int64",
         "type": "integer"
        },
        {
         "name": "Category",
         "rawType": "object",
         "type": "string"
        },
        {
         "name": "count",
         "rawType": "int64",
         "type": "integer"
        }
       ],
       "ref": "693c4d4e-6b4b-469e-8b05-27018e99bd8a",
       "rows": [
        [
         "0",
         "T-shirt",
         "50292"
        ],
        [
         "1",
         "Shirt",
         "49877"
        ],
        [
         "2",
         "Blazzer",
         "15500"
        ],
        [
         "3",
         "Trousers",
         "10616"
        ],
        [
         "4",
         "Perfume",
         "1157"
        ],
        [
         "5",
         "Wallet",
         "926"
        ],
        [
         "6",
         "Socks",
         "440"
        ],
        [
         "7",
         "Shoes",
         "165"
        ],
        [
         "8",
         "Watch",
         "3"
        ]
       ],
       "shape": {
        "columns": 2,
        "rows": 9
       }
      },
      "text/html": [
       "<div>\n",
       "<style scoped>\n",
       "    .dataframe tbody tr th:only-of-type {\n",
       "        vertical-align: middle;\n",
       "    }\n",
       "\n",
       "    .dataframe tbody tr th {\n",
       "        vertical-align: top;\n",
       "    }\n",
       "\n",
       "    .dataframe thead th {\n",
       "        text-align: right;\n",
       "    }\n",
       "</style>\n",
       "<table border=\"1\" class=\"dataframe\">\n",
       "  <thead>\n",
       "    <tr style=\"text-align: right;\">\n",
       "      <th></th>\n",
       "      <th>Category</th>\n",
       "      <th>count</th>\n",
       "    </tr>\n",
       "  </thead>\n",
       "  <tbody>\n",
       "    <tr>\n",
       "      <th>0</th>\n",
       "      <td>T-shirt</td>\n",
       "      <td>50292</td>\n",
       "    </tr>\n",
       "    <tr>\n",
       "      <th>1</th>\n",
       "      <td>Shirt</td>\n",
       "      <td>49877</td>\n",
       "    </tr>\n",
       "    <tr>\n",
       "      <th>2</th>\n",
       "      <td>Blazzer</td>\n",
       "      <td>15500</td>\n",
       "    </tr>\n",
       "    <tr>\n",
       "      <th>3</th>\n",
       "      <td>Trousers</td>\n",
       "      <td>10616</td>\n",
       "    </tr>\n",
       "    <tr>\n",
       "      <th>4</th>\n",
       "      <td>Perfume</td>\n",
       "      <td>1157</td>\n",
       "    </tr>\n",
       "    <tr>\n",
       "      <th>5</th>\n",
       "      <td>Wallet</td>\n",
       "      <td>926</td>\n",
       "    </tr>\n",
       "    <tr>\n",
       "      <th>6</th>\n",
       "      <td>Socks</td>\n",
       "      <td>440</td>\n",
       "    </tr>\n",
       "    <tr>\n",
       "      <th>7</th>\n",
       "      <td>Shoes</td>\n",
       "      <td>165</td>\n",
       "    </tr>\n",
       "    <tr>\n",
       "      <th>8</th>\n",
       "      <td>Watch</td>\n",
       "      <td>3</td>\n",
       "    </tr>\n",
       "  </tbody>\n",
       "</table>\n",
       "</div>"
      ],
      "text/plain": [
       "   Category  count\n",
       "0   T-shirt  50292\n",
       "1     Shirt  49877\n",
       "2   Blazzer  15500\n",
       "3  Trousers  10616\n",
       "4   Perfume   1157\n",
       "5    Wallet    926\n",
       "6     Socks    440\n",
       "7     Shoes    165\n",
       "8     Watch      3"
      ]
     },
     "execution_count": 27,
     "metadata": {},
     "output_type": "execute_result"
    }
   ],
   "source": [
    "#Total and count of sales category\n",
    "category_count = Amazon_Sales['Category'].value_counts().reset_index()\n",
    "category_count\n"
   ]
  },
  {
   "cell_type": "markdown",
   "id": "c6785aa0",
   "metadata": {},
   "source": [
    "**Insights:**\n",
    "High-demand categories like T-shirts and Shirts may benefit from increased inventory and promotional efforts to sustain their strong performance.\n",
    "Mid-range categories such as Blazers and Trousers could see growth through targeted marketing campaigns or by bundling with high-demand items.\n",
    "Low-performing categories like Perfumes, Wallets, and Socks may require better visibility or improved pricing strategies to drive sales.\n",
    "This analysis highlights the need to focus resources on the best-performing categories while exploring strategies to boost interest and sales in less popular segments."
   ]
  },
  {
   "cell_type": "markdown",
   "id": "a512a904",
   "metadata": {},
   "source": [
    "### CATEGORY SALES"
   ]
  },
  {
   "cell_type": "code",
   "execution_count": 28,
   "id": "48c1f8de",
   "metadata": {},
   "outputs": [
    {
     "data": {
      "application/vnd.microsoft.datawrangler.viewer.v0+json": {
       "columns": [
        {
         "name": "index",
         "rawType": "int64",
         "type": "integer"
        },
        {
         "name": "Category",
         "rawType": "object",
         "type": "string"
        },
        {
         "name": "Amount",
         "rawType": "float64",
         "type": "float"
        }
       ],
       "ref": "db11a697-5a97-4cae-9d09-6862c2a12f33",
       "rows": [
        [
         "5",
         "T-shirt",
         "39206756.65"
        ],
        [
         "2",
         "Shirt",
         "21297770.08"
        ],
        [
         "0",
         "Blazzer",
         "11215104.12"
        ],
        [
         "6",
         "Trousers",
         "5346286.3"
        ],
        [
         "1",
         "Perfume",
         "789419.66"
        ],
        [
         "7",
         "Wallet",
         "458408.18"
        ],
        [
         "4",
         "Socks",
         "150757.5"
        ],
        [
         "3",
         "Shoes",
         "124752.76"
        ],
        [
         "8",
         "Watch",
         "915.0"
        ]
       ],
       "shape": {
        "columns": 2,
        "rows": 9
       }
      },
      "text/html": [
       "<div>\n",
       "<style scoped>\n",
       "    .dataframe tbody tr th:only-of-type {\n",
       "        vertical-align: middle;\n",
       "    }\n",
       "\n",
       "    .dataframe tbody tr th {\n",
       "        vertical-align: top;\n",
       "    }\n",
       "\n",
       "    .dataframe thead th {\n",
       "        text-align: right;\n",
       "    }\n",
       "</style>\n",
       "<table border=\"1\" class=\"dataframe\">\n",
       "  <thead>\n",
       "    <tr style=\"text-align: right;\">\n",
       "      <th></th>\n",
       "      <th>Category</th>\n",
       "      <th>Amount</th>\n",
       "    </tr>\n",
       "  </thead>\n",
       "  <tbody>\n",
       "    <tr>\n",
       "      <th>5</th>\n",
       "      <td>T-shirt</td>\n",
       "      <td>39206756.65</td>\n",
       "    </tr>\n",
       "    <tr>\n",
       "      <th>2</th>\n",
       "      <td>Shirt</td>\n",
       "      <td>21297770.08</td>\n",
       "    </tr>\n",
       "    <tr>\n",
       "      <th>0</th>\n",
       "      <td>Blazzer</td>\n",
       "      <td>11215104.12</td>\n",
       "    </tr>\n",
       "    <tr>\n",
       "      <th>6</th>\n",
       "      <td>Trousers</td>\n",
       "      <td>5346286.30</td>\n",
       "    </tr>\n",
       "    <tr>\n",
       "      <th>1</th>\n",
       "      <td>Perfume</td>\n",
       "      <td>789419.66</td>\n",
       "    </tr>\n",
       "    <tr>\n",
       "      <th>7</th>\n",
       "      <td>Wallet</td>\n",
       "      <td>458408.18</td>\n",
       "    </tr>\n",
       "    <tr>\n",
       "      <th>4</th>\n",
       "      <td>Socks</td>\n",
       "      <td>150757.50</td>\n",
       "    </tr>\n",
       "    <tr>\n",
       "      <th>3</th>\n",
       "      <td>Shoes</td>\n",
       "      <td>124752.76</td>\n",
       "    </tr>\n",
       "    <tr>\n",
       "      <th>8</th>\n",
       "      <td>Watch</td>\n",
       "      <td>915.00</td>\n",
       "    </tr>\n",
       "  </tbody>\n",
       "</table>\n",
       "</div>"
      ],
      "text/plain": [
       "   Category       Amount\n",
       "5   T-shirt  39206756.65\n",
       "2     Shirt  21297770.08\n",
       "0   Blazzer  11215104.12\n",
       "6  Trousers   5346286.30\n",
       "1   Perfume    789419.66\n",
       "7    Wallet    458408.18\n",
       "4     Socks    150757.50\n",
       "3     Shoes    124752.76\n",
       "8     Watch       915.00"
      ]
     },
     "execution_count": 28,
     "metadata": {},
     "output_type": "execute_result"
    }
   ],
   "source": [
    "Category_sales = Amazon_Sales.groupby([\"Category\"])[[\"Amount\"]].sum().reset_index()\n",
    "Category_sales.sort_values(by= \"Amount\", ascending = False)"
   ]
  },
  {
   "cell_type": "code",
   "execution_count": null,
   "id": "92440e26",
   "metadata": {},
   "outputs": [
    {
     "data": {
      "application/vnd.microsoft.datawrangler.viewer.v0+json": {
       "columns": [
        {
         "name": "index",
         "rawType": "int64",
         "type": "integer"
        },
        {
         "name": "Category",
         "rawType": "object",
         "type": "string"
        },
        {
         "name": "Amount",
         "rawType": "float64",
         "type": "float"
        }
       ],
       "ref": "cc1a1af1-1974-46bd-841a-851e792f7dca",
       "rows": [
        [
         "0",
         "Blazzer",
         "11215104.12"
        ],
        [
         "1",
         "Perfume",
         "789419.66"
        ],
        [
         "2",
         "Shirt",
         "21297770.08"
        ],
        [
         "3",
         "Shoes",
         "124752.76"
        ],
        [
         "4",
         "Socks",
         "150757.5"
        ],
        [
         "5",
         "T-shirt",
         "39206756.65"
        ],
        [
         "6",
         "Trousers",
         "5346286.3"
        ],
        [
         "7",
         "Wallet",
         "458408.18"
        ],
        [
         "8",
         "Watch",
         "915.0"
        ]
       ],
       "shape": {
        "columns": 2,
        "rows": 9
       }
      },
      "text/html": [
       "<div>\n",
       "<style scoped>\n",
       "    .dataframe tbody tr th:only-of-type {\n",
       "        vertical-align: middle;\n",
       "    }\n",
       "\n",
       "    .dataframe tbody tr th {\n",
       "        vertical-align: top;\n",
       "    }\n",
       "\n",
       "    .dataframe thead th {\n",
       "        text-align: right;\n",
       "    }\n",
       "</style>\n",
       "<table border=\"1\" class=\"dataframe\">\n",
       "  <thead>\n",
       "    <tr style=\"text-align: right;\">\n",
       "      <th></th>\n",
       "      <th>Category</th>\n",
       "      <th>Amount</th>\n",
       "    </tr>\n",
       "  </thead>\n",
       "  <tbody>\n",
       "    <tr>\n",
       "      <th>0</th>\n",
       "      <td>Blazzer</td>\n",
       "      <td>11215104.12</td>\n",
       "    </tr>\n",
       "    <tr>\n",
       "      <th>1</th>\n",
       "      <td>Perfume</td>\n",
       "      <td>789419.66</td>\n",
       "    </tr>\n",
       "    <tr>\n",
       "      <th>2</th>\n",
       "      <td>Shirt</td>\n",
       "      <td>21297770.08</td>\n",
       "    </tr>\n",
       "    <tr>\n",
       "      <th>3</th>\n",
       "      <td>Shoes</td>\n",
       "      <td>124752.76</td>\n",
       "    </tr>\n",
       "    <tr>\n",
       "      <th>4</th>\n",
       "      <td>Socks</td>\n",
       "      <td>150757.50</td>\n",
       "    </tr>\n",
       "    <tr>\n",
       "      <th>5</th>\n",
       "      <td>T-shirt</td>\n",
       "      <td>39206756.65</td>\n",
       "    </tr>\n",
       "    <tr>\n",
       "      <th>6</th>\n",
       "      <td>Trousers</td>\n",
       "      <td>5346286.30</td>\n",
       "    </tr>\n",
       "    <tr>\n",
       "      <th>7</th>\n",
       "      <td>Wallet</td>\n",
       "      <td>458408.18</td>\n",
       "    </tr>\n",
       "    <tr>\n",
       "      <th>8</th>\n",
       "      <td>Watch</td>\n",
       "      <td>915.00</td>\n",
       "    </tr>\n",
       "  </tbody>\n",
       "</table>\n",
       "</div>"
      ],
      "text/plain": [
       "   Category       Amount\n",
       "0   Blazzer  11215104.12\n",
       "1   Perfume    789419.66\n",
       "2     Shirt  21297770.08\n",
       "3     Shoes    124752.76\n",
       "4     Socks    150757.50\n",
       "5   T-shirt  39206756.65\n",
       "6  Trousers   5346286.30\n",
       "7    Wallet    458408.18\n",
       "8     Watch       915.00"
      ]
     },
     "execution_count": 29,
     "metadata": {},
     "output_type": "execute_result"
    }
   ],
   "source": [
    "Category_sales"
   ]
  },
  {
   "cell_type": "code",
   "execution_count": 38,
   "id": "0aadeaf2",
   "metadata": {},
   "outputs": [],
   "source": [
    "Category_sales.to_csv(\"Category Sales\")"
   ]
  },
  {
   "cell_type": "markdown",
   "id": "0d63e6b3",
   "metadata": {},
   "source": [
    "**Insights:**\n",
    "**Investment in Top Categories:**\n",
    "\n",
    "Expanding inventory and marketing for high-revenue categories like T-shirts and Shirts can sustain their growth.\n",
    "Offering variety in styles and competitive pricing may further boost sales.\n",
    "Growth Potential for Moderate Performers:\n",
    "\n",
    "Blazers and Trousers have room for improvement and could benefit from targeted promotions or bundling strategies with top categories.\n",
    "\n",
    "**Strategies for Low-Revenue Items:**\n",
    "\n",
    "Perfumes, Wallets, and Socks may require better marketing visibility, unique selling propositions, or competitive pricing to drive sales.\n",
    "Low-performing categories like Shoes and Watches might need reassessment of their product appeal or stocking strategy.\n",
    "This analysis highlights the dominance of apparel categories like T-shirts and Shirts in sales revenue, with opportunities to maximize performance across other segments."
   ]
  },
  {
   "cell_type": "code",
   "execution_count": 30,
   "id": "65156647-f97c-4c8f-98bb-1a6d812c7dcf",
   "metadata": {},
   "outputs": [
    {
     "data": {
      "image/png": "[encoded data removed]",
      "text/plain": [
       "<Figure size 1000x800 with 1 Axes>"
      ]
     },
     "metadata": {},
     "output_type": "display_data"
    }
   ],
   "source": [
    "x = Category_sales[\"Category\"]\n",
    "y = Category_sales[\"Amount\"]\n",
    "plt.figure(figsize = (10, 8))\n",
    "\n",
    "bar = plt.bar(x, y, color = \"red\", edgecolor = \"black\")\n",
    "\n",
    "for bar in bar:\n",
    "    yval = bar.get_height()\n",
    "    plt.text(bar.get_x() + bar.get_width()/2, yval , round(yval), ha = \"center\", va = \"bottom\", alpha = 0.7, fontfamily = \"arial\", fontweight = \"bold\")\n",
    "\n",
    "\n",
    "plt.xlabel(\"Amount\")\n",
    "plt.ylabel(\"Category\")\n",
    "plt.title(\"Total amount sold in category\", fontfamily = \"Arial\", fontsize = 16, color  = \"Blue\", fontweight = \"bold\")\n",
    "\n",
    "plt.tight_layout()\n",
    "plt.show()"
   ]
  },
  {
   "cell_type": "markdown",
   "id": "4532c4fd",
   "metadata": {},
   "source": [
    "**Insights and Recommendations:**\n",
    "**Focus on Apparel:**\n",
    "Expanding T-shirt and Shirt inventories can leverage their high sales potential.\n",
    "\n",
    "**Boost Moderate Categories:**\n",
    "Enhance marketing efforts for Blazers and Trousers to increase their appeal.\n",
    "\n",
    "**Reassess Low Performers:**\n",
    "Investigate the low sales of categories like Shoes and Watches to identify potential barriers, such as limited stock or low demand.\n",
    "\n",
    "This bar chart effectively highlights the disparities in revenue across categories, guiding strategic inventory and marketing decisions."
   ]
  },
  {
   "cell_type": "code",
   "execution_count": null,
   "id": "eff054a2-2721-438d-a67e-c51c8e56c795",
   "metadata": {},
   "outputs": [],
   "source": []
  },
  {
   "cell_type": "markdown",
   "id": "2eb59b9a",
   "metadata": {},
   "source": [
    "### Recommendation\n",
    "Based on the analysis, it is recommended that the client focuses on the following strategies to maximize profitability and enhance sales performance:\n",
    "\n",
    "**Prioritize High-Performing Categories:**\n",
    "\n",
    "Increase inventory and marketing budgets for T-shirts and Shirts, as they contribute the largest share of revenue. Consider seasonal promotions to further boost sales.\n",
    "\n",
    "**Optimize Underperforming Categories:**\n",
    "\n",
    "Reevaluate product strategies for Perfumes, Shoes, and Watches by introducing competitive pricing, product bundling, and enhanced marketing campaigns to improve their appeal.\n",
    "\n",
    "**Capitalize on Expedited Shipping Demand:**\n",
    "\n",
    "Promote expedited shipping options for premium and high-demand products to encourage repeat purchases and customer satisfaction.\n",
    "\n",
    "**Enhance Customer Engagement:**\n",
    "\n",
    "Use customer feedback and preferences to refine product offerings, especially for moderate and low-performing categories like Blazers, Trousers, and Wallets.\n",
    "\n",
    "**Leverage Data Insights for Campaigns:**\n",
    "\n",
    "Use targeted advertising for specific categories based on their sales trends and customer demographics to drive conversions.\n",
    "\n",
    "### Conclusion\n",
    "The analysis reveals strong opportunities in high-demand categories such as T-shirts and Shirts, which dominate the sales portfolio. By addressing gaps in underperforming categories and capitalizing on customer preferences for expedited shipping, the client can achieve sustained growth and improved market presence. Strategic investments in product optimization and customer engagement will ensure long-term profitability and enhanced customer loyalty."
   ]
  }
 ],
 "metadata": {
  "kernelspec": {
   "display_name": "base",
   "language": "python",
   "name": "python3"
  },
  "language_info": {
   "codemirror_mode": {
    "name": "ipython",
    "version": 3
   },
   "file_extension": ".py",
   "mimetype": "text/x-python",
   "name": "python",
   "nbconvert_exporter": "python",
   "pygments_lexer": "ipython3",
   "version": "3.12.4"
  }
 },
 "nbformat": 4,
 "nbformat_minor": 5
}
